{
 "cells": [
  {
   "cell_type": "markdown",
   "metadata": {},
   "source": [
    "## Sets\n",
    "\n",
    "unordered, modifiable (but elements must be immutable), unique elments only though different datatypes are allowed in a same set."
   ]
  },
  {
   "cell_type": "code",
   "execution_count": 2,
   "metadata": {},
   "outputs": [
    {
     "name": "stdout",
     "output_type": "stream",
     "text": [
      "{'h', ' ', 'e', 'r', 't', 's'}\n",
      "{'and one more object', 'set here'}\n"
     ]
    }
   ],
   "source": [
    "#defining sets\n",
    "\n",
    "#using set class\n",
    "s =set(\"set here\")#this takes any iterable like, list, tuple or string and take each item\n",
    "# as element, this behavior is similar to list's extend method\n",
    "print(s)\n",
    "\n",
    "#using {} braces\n",
    "s = {'set here','and one more object'}#this is similar to list's append method\n",
    "print(s)"
   ]
  },
  {
   "cell_type": "code",
   "execution_count": 3,
   "metadata": {},
   "outputs": [
    {
     "name": "stdout",
     "output_type": "stream",
     "text": [
      "set() <class 'set'>\n",
      "{} <class 'dict'>\n"
     ]
    }
   ],
   "source": [
    "#to declare a empty set use\n",
    "s = set()\n",
    "print(s,type(s))\n",
    "\n",
    "#{} is for dictionary by default\n",
    "s = {}\n",
    "print(s,type(s))"
   ]
  },
  {
   "cell_type": "code",
   "execution_count": 4,
   "metadata": {},
   "outputs": [
    {
     "name": "stdout",
     "output_type": "stream",
     "text": [
      "3\n",
      "False\n"
     ]
    }
   ],
   "source": [
    "#size and membership\n",
    "s = {1,2,3}\n",
    "print(len(s))\n",
    "print(4 in s)"
   ]
  },
  {
   "cell_type": "code",
   "execution_count": 9,
   "metadata": {},
   "outputs": [
    {
     "name": "stdout",
     "output_type": "stream",
     "text": [
      "{1, 2, 3, 4, 5, 6, 7, 8}\n",
      "{1, 2, 3, 4, 5, 6, 7, 8}\n",
      "{3}\n",
      "{3}\n",
      "{1}\n",
      "{1}\n",
      "{1, 4, 5, 6}\n",
      "{1, 4, 5, 6}\n"
     ]
    }
   ],
   "source": [
    "#methods and operators of sets\n",
    "#both are present for set, but methods can take iterable and convert them to sets on the fly\n",
    "\n",
    "s1 = {1,2,2,3,4}\n",
    "s2 = {2,3,5,6}\n",
    "s3 = {3,4,5,6,7,8}\n",
    "#union\n",
    "print(s1 | s2 | s3)\n",
    "print(s1.union(s2,s3))\n",
    "\n",
    "#intersection\n",
    "print(s1 & s2 & s3)\n",
    "print(s1.intersection(s2,s3))\n",
    "\n",
    "#difference, from left to right remove elements that are in s2,s3 from s1 \n",
    "print(s1 - s2 -s3)\n",
    "print(s1.difference(s2,s3))\n",
    "\n",
    "#symmetric difference non common elements, doesn;t allow multiple sets\n",
    "print(s1 ^ s2)\n",
    "print(s1.symmetric_difference(s2))"
   ]
  },
  {
   "cell_type": "code",
   "execution_count": 15,
   "metadata": {},
   "outputs": [
    {
     "name": "stdout",
     "output_type": "stream",
     "text": [
      "set()\n",
      "True\n",
      "True\n",
      "True\n",
      "True\n"
     ]
    }
   ],
   "source": [
    "s1 = {1,2,3}\n",
    "s2 = {4,5}\n",
    "\n",
    "#isdisjoint() ? returns bool\n",
    "print(s1 & s2)#returns empty set\n",
    "print(s1.isdisjoint(s2))\n",
    "\n",
    "s1 = {1,2,3,4,5}\n",
    "s2 = {4,5}\n",
    "#issubset? returns bool s1<=s2\n",
    "print(s2 <= s1)\n",
    "print(s2.issubset(s1))\n",
    "\n",
    "#proper supperset ?, no methods for this\n",
    "print(s1>s2)"
   ]
  },
  {
   "cell_type": "code",
   "execution_count": 36,
   "metadata": {},
   "outputs": [
    {
     "name": "stdout",
     "output_type": "stream",
     "text": [
      "{1, 2, 3, 4, 5}\n",
      "{1, 2, 3, 4}\n",
      "{1, 2, 3, 4}\n",
      "{2, 3, 4}\n",
      "set()\n"
     ]
    }
   ],
   "source": [
    "s1 = set([1,2,3,4])\n",
    "s1.add(5)#must be immutable, so that it is hashable\n",
    "print(s1)\n",
    "\n",
    "s1.remove(5)#removes if present, else exception\n",
    "print(s1)\n",
    "\n",
    "#don't want any exceptions?\n",
    "s1.discard(10)\n",
    "print(s1)\n",
    "\n",
    "#remove random? if empty raises exception\n",
    "s1.pop()\n",
    "print(s1)\n",
    "\n",
    "#clear whole set\n",
    "s1.clear()\n",
    "print(s1)"
   ]
  },
  {
   "cell_type": "code",
   "execution_count": 38,
   "metadata": {},
   "outputs": [
    {
     "data": {
      "text/plain": [
       "frozenset({1, 2, 3})"
      ]
     },
     "execution_count": 38,
     "metadata": {},
     "output_type": "execute_result"
    }
   ],
   "source": [
    "#frozensets are used as immutable sets\n",
    "s = frozenset([1,2,3])\n",
    "s"
   ]
  },
  {
   "cell_type": "code",
   "execution_count": null,
   "metadata": {},
   "outputs": [],
   "source": []
  }
 ],
 "metadata": {
  "kernelspec": {
   "display_name": "Python 3",
   "language": "python",
   "name": "python3"
  },
  "language_info": {
   "codemirror_mode": {
    "name": "ipython",
    "version": 3
   },
   "file_extension": ".py",
   "mimetype": "text/x-python",
   "name": "python",
   "nbconvert_exporter": "python",
   "pygments_lexer": "ipython3",
   "version": "3.8.5"
  }
 },
 "nbformat": 4,
 "nbformat_minor": 4
}
