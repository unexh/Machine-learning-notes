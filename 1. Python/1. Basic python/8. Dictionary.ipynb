{
 "cells": [
  {
   "cell_type": "markdown",
   "metadata": {},
   "source": [
    "## Dictionary\n",
    "a list of key : value pairs aka associative array (that retains order, after py3.6 helpful while printing):<br>\n",
    "mutable, dynamic, nested, accessed via keys (no index).<br>\n",
    "  1. Keys can be anything but mutable type, like lists and dict itself. Because it needs to be hashable.\n",
    "  "
   ]
  },
  {
   "cell_type": "code",
   "execution_count": 18,
   "metadata": {},
   "outputs": [
    {
     "name": "stdout",
     "output_type": "stream",
     "text": [
      "{'Nishant': 12, 'Sushant': 2}\n",
      "{'Nishant': 12, 'Sushant': 2}\n",
      "{'Nishant': 12, 'Sushant': 2}\n"
     ]
    }
   ],
   "source": [
    "#declarations\n",
    "#dict with list of tuples\n",
    "d = dict([(\"Nishant\",12),(\"Sushant\",2)])\n",
    "print(d)\n",
    "\n",
    "#{}, with key value pair\n",
    "d = {\"Nishant\":12,\"Sushant\":2};\n",
    "print(d)\n",
    "\n",
    "#simple string keys? use this shortcut, only with dict, while accessing use string only\n",
    "d = dict(Nishant=12, Sushant=2)\n",
    "print(d)"
   ]
  },
  {
   "cell_type": "code",
   "execution_count": 19,
   "metadata": {},
   "outputs": [
    {
     "name": "stdout",
     "output_type": "stream",
     "text": [
      "12\n",
      "{'Nishant': 12, 'Sushant': 2, 'Sunita': 13}\n",
      "{'Nishant': 12, 'Sushant': 2}\n"
     ]
    }
   ],
   "source": [
    "#accessing values\n",
    "#via key value\n",
    "print(d[\"Nishant\"])\n",
    "#print(d[\"Satinder\"]) #key not found? raises exception\n",
    "\n",
    "#adding key\n",
    "d[\"Sunita\"]=13\n",
    "print(d)\n",
    "\n",
    "#updating value\n",
    "d[\"Sunita\"]=12\n",
    "\n",
    "#deleting item\n",
    "del d[\"Sunita\"]\n",
    "print(d)"
   ]
  },
  {
   "cell_type": "code",
   "execution_count": 24,
   "metadata": {},
   "outputs": [
    {
     "data": {
      "text/plain": [
       "4"
      ]
     },
     "execution_count": 24,
     "metadata": {},
     "output_type": "execute_result"
    }
   ],
   "source": [
    "#any immutable value can be key, unlike list which is mutable ofc\n",
    "#reason you ask? not HASHABLE I say\n",
    "\n",
    "#accesssing nested dictionary\n",
    "d = dict(home=[1,2,3,4],Neighbour=[5,6,7,8])\n",
    "d[\"home\"][-1]"
   ]
  },
  {
   "cell_type": "code",
   "execution_count": 30,
   "metadata": {},
   "outputs": [
    {
     "name": "stdout",
     "output_type": "stream",
     "text": [
      "True\n",
      "False\n",
      "5\n",
      "{}\n"
     ]
    }
   ],
   "source": [
    "#Operators and Built-in Functions\n",
    "\n",
    "#check if key exists\n",
    "d = {'Colorado': 'Rockies', 'Boston': 'Red Sox', 'Minnesota': 'Twins','Milwaukee': 'Brewers', 'Seattle': 'Mariners'}\n",
    "print('Colorado' in d)\n",
    "\n",
    "#use this to escape from error\n",
    "key = 'Delhi'\n",
    "print(key in d and d[key])\n",
    "\n",
    "#len of dict\n",
    "print(len(d))\n",
    "\n",
    "#clear dict\n",
    "d.clear()\n",
    "print(d)"
   ]
  },
  {
   "cell_type": "code",
   "execution_count": 42,
   "metadata": {},
   "outputs": [
    {
     "name": "stdout",
     "output_type": "stream",
     "text": [
      "None\n",
      "NoValues\n",
      "Rockies\n"
     ]
    }
   ],
   "source": [
    "d = {'Colorado': 'Rockies', 'Boston': 'Red Sox', 'Minnesota': 'Twins','Milwaukee': 'Brewers', 'Seattle': 'Mariners'}\n",
    "\n",
    "\n",
    "#d.get(<key>[, <default>])\n",
    "#Returns the value for a key if it exists in the dictionary.\n",
    "print(d.get('ColOrado'))#not found return none\n",
    "print(d.get('ColOrado','NoValues'))#not found returns default\n",
    "print(d.get('Colorado'))#return value"
   ]
  },
  {
   "cell_type": "code",
   "execution_count": 48,
   "metadata": {},
   "outputs": [
    {
     "name": "stdout",
     "output_type": "stream",
     "text": [
      "[('Colorado', 'Rockies'), ('Boston', 'Red Sox'), ('Minnesota', 'Twins'), ('Milwaukee', 'Brewers'), ('Seattle', 'Mariners')]\n",
      "['Colorado', 'Boston', 'Minnesota', 'Milwaukee', 'Seattle']\n",
      "['Rockies', 'Red Sox', 'Twins', 'Brewers', 'Mariners']\n"
     ]
    }
   ],
   "source": [
    "#d.items()\n",
    "#Returns a list of key-value pairs in a dictionary.\n",
    "print(list(d.items()))#list of tuples\n",
    "\n",
    "#d.keys() , list of keys\n",
    "print(list(d.keys()))\n",
    "\n",
    "#d.values() , list of values\n",
    "print(list(d.values()))\n",
    "\n",
    "#these methods actually returns view of their object"
   ]
  },
  {
   "cell_type": "code",
   "execution_count": 49,
   "metadata": {},
   "outputs": [],
   "source": [
    "#d.pop(<key>[, <default>])\n",
    "#Removes a key from a dictionary, if it is present, and returns its value.\n",
    "\n",
    "#d.pop(\"Colorado\") found? delete and return\n",
    "#d.pop(\"ColOrado\") not found? raise exception\n",
    "#d.pop(\"ColOrado\",-1) not found? return default\n",
    "\n",
    "\n",
    "#d.popitem(key) returns key value tuple, else raises exception"
   ]
  },
  {
   "cell_type": "code",
   "execution_count": 51,
   "metadata": {},
   "outputs": [
    {
     "name": "stdout",
     "output_type": "stream",
     "text": [
      "{'a': 10, 'b': 200, 'c': 30, 'd': 400}\n"
     ]
    }
   ],
   "source": [
    "#d.update(another_dict/or key=value,key=value)\n",
    "#this mearges two dict those key that exists are updated\n",
    "d1 = {'a': 10, 'b': 20, 'c': 30}\n",
    "d2 = {'b': 200, 'd': 400}\n",
    "d1.update(d2)\n",
    "print(d1)"
   ]
  },
  {
   "cell_type": "code",
   "execution_count": null,
   "metadata": {},
   "outputs": [],
   "source": []
  }
 ],
 "metadata": {
  "kernelspec": {
   "display_name": "Python 3",
   "language": "python",
   "name": "python3"
  },
  "language_info": {
   "codemirror_mode": {
    "name": "ipython",
    "version": 3
   },
   "file_extension": ".py",
   "mimetype": "text/x-python",
   "name": "python",
   "nbconvert_exporter": "python",
   "pygments_lexer": "ipython3",
   "version": "3.8.5"
  }
 },
 "nbformat": 4,
 "nbformat_minor": 4
}
