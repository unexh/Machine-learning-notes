{
 "cells": [
  {
   "cell_type": "code",
   "execution_count": null,
   "metadata": {},
   "outputs": [],
   "source": [
    "#indentation if must in python"
   ]
  },
  {
   "cell_type": "markdown",
   "metadata": {},
   "source": [
    "## if "
   ]
  },
  {
   "cell_type": "code",
   "execution_count": 6,
   "metadata": {},
   "outputs": [
    {
     "name": "stdout",
     "output_type": "stream",
     "text": [
      "do stuff\n"
     ]
    }
   ],
   "source": [
    "if True:\n",
    "    print(\"do stuff\")"
   ]
  },
  {
   "cell_type": "code",
   "execution_count": 4,
   "metadata": {},
   "outputs": [
    {
     "name": "stdout",
     "output_type": "stream",
     "text": [
      "do some other stuff\n"
     ]
    }
   ],
   "source": [
    "if 0:\n",
    "    print(\"do stuff\")\n",
    "else:\n",
    "    print(\"do some other stuff\")"
   ]
  },
  {
   "cell_type": "code",
   "execution_count": 1,
   "metadata": {},
   "outputs": [
    {
     "name": "stdout",
     "output_type": "stream",
     "text": [
      "positive\n"
     ]
    }
   ],
   "source": [
    "#elif example\n",
    "a=1\n",
    "if (a < 0):\n",
    "    print(\"negative\")\n",
    "elif a == 0:\n",
    "    print(\"zero\")\n",
    "else:\n",
    "    print(\"positive\")"
   ]
  },
  {
   "cell_type": "code",
   "execution_count": 9,
   "metadata": {},
   "outputs": [
    {
     "name": "stdout",
     "output_type": "stream",
     "text": [
      "rainy\n",
      "0\n"
     ]
    }
   ],
   "source": [
    "#ternary statement\n",
    "\n",
    "#val1 if <exp> else val2, this has lower precendence so you might want to use brances around it\n",
    "#this works as shortcircuit operator too\n",
    "humid = 79\n",
    "\n",
    "var = \"rainy\" if humid>50 else \"sunny\"\n",
    "print(var)\n",
    "\n",
    "\n",
    "#shortcircuit operator\n",
    "#var = 1/0\n",
    "var = 1/0 if False else 0\n",
    "print(var)"
   ]
  },
  {
   "cell_type": "code",
   "execution_count": 10,
   "metadata": {},
   "outputs": [
    {
     "name": "stdout",
     "output_type": "stream",
     "text": [
      "yes\n",
      "this will print only if yes prints\n",
      "all good\n"
     ]
    }
   ],
   "source": [
    "#one-line if\n",
    "a,b = 10,5\n",
    "if(a>b) : print(\"yes\");print(\"this will print only if yes prints\");print(\"all good\")"
   ]
  },
  {
   "cell_type": "code",
   "execution_count": 13,
   "metadata": {},
   "outputs": [
    {
     "name": "stdout",
     "output_type": "stream",
     "text": [
      "Done\n"
     ]
    }
   ],
   "source": [
    "#want an empty code-stub use pass\n",
    "\n",
    "\"\"\"\n",
    "if true:\n",
    "    #havent written anything\n",
    "print(\"done\")\n",
    "\"\"\"\n",
    "#this produces indentation error\n",
    "\n",
    "if True:\n",
    "    pass\n",
    "print(\"Done\")"
   ]
  },
  {
   "cell_type": "markdown",
   "metadata": {},
   "source": [
    "## While"
   ]
  },
  {
   "cell_type": "code",
   "execution_count": 15,
   "metadata": {},
   "outputs": [
    {
     "name": "stdout",
     "output_type": "stream",
     "text": [
      "5\n",
      "4\n",
      "3\n",
      "2\n",
      "1\n",
      "done, what now?\n"
     ]
    }
   ],
   "source": [
    "#while loop and else\n",
    "#else runs when while ends naturally\n",
    "#not when break is called or program is terminated cause of error\n",
    "a=[1,2,3,4,5,6]\n",
    "i=4\n",
    "while i>=0:\n",
    "    print(a[i])\n",
    "    i-=1\n",
    "else:\n",
    "    print(\"done, what now?\")"
   ]
  },
  {
   "cell_type": "code",
   "execution_count": 19,
   "metadata": {},
   "outputs": [
    {
     "name": "stdout",
     "output_type": "stream",
     "text": [
      "3\n",
      "2\n",
      "1\n",
      "List is done\n"
     ]
    }
   ],
   "source": [
    "#using iteratable\n",
    "l = [1,2,3]\n",
    "\n",
    "while l:\n",
    "    print(l.pop(-1))\n",
    "else:#else if used with while, only executed if condition ois exhausted naturally\n",
    "    print(\"List is done\")\n",
    "#continue/break: for more enhancements"
   ]
  },
  {
   "cell_type": "code",
   "execution_count": 27,
   "metadata": {},
   "outputs": [
    {
     "name": "stdout",
     "output_type": "stream",
     "text": [
      "1\n",
      "2\n",
      "3\n"
     ]
    }
   ],
   "source": [
    "#iterators and iterables\n",
    "#these are objects which can be looped over/iterated and The object that produces successive items or values from its associated iterable\n",
    "\n",
    "li = [1,2,3]\n",
    "iterator = iter(li)\n",
    "print(next(iterator))#next is used to fetch next iterator object\n",
    "print(next(iterator))\n",
    "print(next(iterator))\n",
    "#print(next(iterator)) gives error StopIteration"
   ]
  },
  {
   "cell_type": "markdown",
   "metadata": {},
   "source": [
    "## for\n",
    "\n",
    "for in python iterates over a iteratable (like list, tuples and other iteratables)\n",
    "<code>\n",
    "    for iter in <iteratable>:\n",
    "        do something with iterator</code><br><br>\n",
    "\n",
    "iter takes different values of sequence by traversing over it "
   ]
  },
  {
   "cell_type": "code",
   "execution_count": 16,
   "metadata": {},
   "outputs": [
    {
     "name": "stdout",
     "output_type": "stream",
     "text": [
      "120\n"
     ]
    }
   ],
   "source": [
    "#taking product of each elements in a python list\n",
    "product=1\n",
    "li = [1,2,3,4,5]\n",
    "\n",
    "for element in li:\n",
    "    product*=element\n",
    "print(product)"
   ]
  },
  {
   "cell_type": "markdown",
   "metadata": {},
   "source": [
    "## range()"
   ]
  },
  {
   "cell_type": "code",
   "execution_count": 19,
   "metadata": {},
   "outputs": [
    {
     "name": "stdout",
     "output_type": "stream",
     "text": [
      "1\n",
      "3\n",
      "5\n",
      "7\n",
      "9\n"
     ]
    }
   ],
   "source": [
    "#this return iteratable which is lazy in nature (generated when called)\n",
    "#forms\n",
    "    #range(n) 1 .. n-1\n",
    "    #range(m,n) m .. n-1 (m+1,m+2, ..)\n",
    "    #range(start,stop,step)\n",
    "    \n",
    "for i in range(1,11,2):\n",
    "    print(i)"
   ]
  },
  {
   "cell_type": "markdown",
   "metadata": {},
   "source": [
    "## Flow control statements\n",
    "1. break \n",
    "2. continue\n",
    "\n",
    "both work like any other languges"
   ]
  },
  {
   "cell_type": "code",
   "execution_count": 31,
   "metadata": {},
   "outputs": [
    {
     "name": "stdout",
     "output_type": "stream",
     "text": [
      "1 2\n",
      "2 3\n"
     ]
    }
   ],
   "source": [
    "d = {1:2,2:3}\n",
    "for k,v in d.items():\n",
    "    print(k,v)"
   ]
  },
  {
   "cell_type": "code",
   "execution_count": null,
   "metadata": {},
   "outputs": [],
   "source": []
  }
 ],
 "metadata": {
  "kernelspec": {
   "display_name": "Python 3",
   "language": "python",
   "name": "python3"
  },
  "language_info": {
   "codemirror_mode": {
    "name": "ipython",
    "version": 3
   },
   "file_extension": ".py",
   "mimetype": "text/x-python",
   "name": "python",
   "nbconvert_exporter": "python",
   "pygments_lexer": "ipython3",
   "version": "3.8.5"
  }
 },
 "nbformat": 4,
 "nbformat_minor": 4
}
