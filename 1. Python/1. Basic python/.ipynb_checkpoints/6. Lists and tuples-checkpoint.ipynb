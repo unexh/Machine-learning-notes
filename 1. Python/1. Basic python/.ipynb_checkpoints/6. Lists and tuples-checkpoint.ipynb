{
 "cells": [
  {
   "cell_type": "markdown",
   "metadata": {},
   "source": [
    "# Python list\n",
    "denoted by : [ ]<br>\n",
    "characteristics are :\n",
    " 1. ordered.\n",
    "     a. different permutation of list are not same\n",
    " 2. can contain any arbitrary object\n",
    "     a. even complex objects, class functions and modules\n",
    "     b. any len is possible, computer memory is the only limit.\n",
    " 3. can be accessed by index (0-based)<br>\n",
    "     a. same as string, can be indexed with negative values<br>\n",
    "     b. slicing is applicable too, but difference between string and list splicing is string splice returns a reference to old string where as , list splice return a new list itself\n",
    " 4. can be nested to arbitrary depth<br>\n",
    "     a. be aware that operators and functions apply to only the list at the level you specify and are not recursive\n",
    " 5. are mutable\n",
    " 6. are dynamic\n",
    " \n",
    " Note: Singleton list : list with one object<br>\n",
    " Unlike string methods, list methods return nothing generally as they do modify the list itself(they are mutable)"
   ]
  },
  {
   "cell_type": "code",
   "execution_count": 4,
   "metadata": {},
   "outputs": [
    {
     "name": "stdout",
     "output_type": "stream",
     "text": [
      "Nishnt\n",
      "12\n",
      "False\n",
      "1.5\n"
     ]
    }
   ],
   "source": [
    "#declaration\n",
    "la = [\"Nishnt\",12,False,1.5]\n",
    "for element in la:\n",
    "    print(element)"
   ]
  },
  {
   "cell_type": "code",
   "execution_count": 6,
   "metadata": {},
   "outputs": [
    {
     "name": "stdout",
     "output_type": "stream",
     "text": [
      "False False\n"
     ]
    }
   ],
   "source": [
    "#permutation of lists are not same\n",
    "la = [\"Nishnt\",12,False,1.5]\n",
    "lb = [\"Nishnt\",1.5,False,12]\n",
    "print(la == lb, la is lb)"
   ]
  },
  {
   "cell_type": "code",
   "execution_count": 7,
   "metadata": {},
   "outputs": [
    {
     "data": {
      "text/plain": [
       "[int,\n",
       " <function len(obj, /)>,\n",
       " <function __main__.foo()>,\n",
       " <module 'math' from '/home/unexh/anaconda3/lib/python3.8/lib-dynload/math.cpython-38-x86_64-linux-gnu.so'>]"
      ]
     },
     "execution_count": 7,
     "metadata": {},
     "output_type": "execute_result"
    }
   ],
   "source": [
    "#list of complex types\n",
    "int\n",
    "len \n",
    "def foo():\n",
    "    print(\"hello\")\n",
    "import math\n",
    "a = [int,len,foo,math]\n",
    "a"
   ]
  },
  {
   "cell_type": "code",
   "execution_count": 18,
   "metadata": {},
   "outputs": [
    {
     "name": "stdout",
     "output_type": "stream",
     "text": [
      "['quux', 'qux', 'baz', 'bar', 'foo']\n",
      "['foo', 'bar', 'baz', 'qux', 'quux', 'corge']\n",
      "['foo', 'bar', 'baz', 'qux', 'quux', 'corge']\n",
      "False\n"
     ]
    }
   ],
   "source": [
    "#list splicing \n",
    "a = ['foo', 'bar', 'baz', 'qux', 'quux', 'corge']\n",
    "print(a[-2::-1])\n",
    "b = a[:]\n",
    "print(a)\n",
    "print(b)\n",
    "print(a is b) # difference between string and list splicing is string splice returns a reference to old string \n",
    "#where as , list splice return a new list itself"
   ]
  },
  {
   "cell_type": "code",
   "execution_count": 23,
   "metadata": {},
   "outputs": [
    {
     "name": "stdout",
     "output_type": "stream",
     "text": [
      "True\n",
      "6\n",
      "bar qux\n"
     ]
    }
   ],
   "source": [
    "#basic python built-in function that appliese to list too\n",
    "#in and not in \n",
    "a = ['foo', 'bar', 'baz', 'qux', 'quux', 'corge']\n",
    "print('foo' in a)\n",
    "print(len(a))\n",
    "print(min(a),max(a))"
   ]
  },
  {
   "cell_type": "code",
   "execution_count": 24,
   "metadata": {},
   "outputs": [
    {
     "data": {
      "text/plain": [
       "4"
      ]
     },
     "execution_count": 24,
     "metadata": {},
     "output_type": "execute_result"
    }
   ],
   "source": [
    "#list can be used without reference too like\n",
    "len(['foo', 'bar', 'baz', 'qux', 'quux', 'corge'][2:])"
   ]
  },
  {
   "cell_type": "code",
   "execution_count": 28,
   "metadata": {},
   "outputs": [
    {
     "name": "stdout",
     "output_type": "stream",
     "text": [
      "False True\n"
     ]
    }
   ],
   "source": [
    "#list nested example\n",
    "a = ['a', ['bb', ['ccc', 'ddd'], 'ee', 'ff'], 'g', ['hh', 'ii'], 'j']\n",
    "print('ddd' in a,'ddd' in a[1][1])"
   ]
  },
  {
   "cell_type": "code",
   "execution_count": 38,
   "metadata": {},
   "outputs": [
    {
     "name": "stdout",
     "output_type": "stream",
     "text": [
      "['foo', 'bar', 'baz', 'qux', 'quux', 'corge']\n",
      "['foo', 'baar', 'baz', 'qux', 'quux', 'corge']\n",
      "['foo', 'baz', 'qux', 'quux', 'corge']\n",
      "['foo', 2, 3, 4, 5, 6, 7]\n",
      "[[1, 2, 3, 4, 5, 6], 2, 3, 4, 5, 6, 7]\n"
     ]
    }
   ],
   "source": [
    "#common operations on list\n",
    "a = ['foo', 'bar', 'baz', 'qux', 'quux', 'corge']\n",
    "print(a)\n",
    "#updation\n",
    "a[1]='baar'\n",
    "print(a)\n",
    "\n",
    "#deletion\n",
    "del a[1]\n",
    "print(a)\n",
    "\n",
    "#modifying multliple list values\n",
    "\"\"\"The number of elements inserted need not be equal to the number replaced.\\\n",
    "Python just grows or shrinks the list as needed.\"\"\"\n",
    "\n",
    "a[1:]=[2,3,4,5,6,7] #deleted 4, added 6\n",
    "print(a)\n",
    "\n",
    "#inserting single item as a list\n",
    "a[0]=[1,2,3,4,5,6]\n",
    "print(a)"
   ]
  },
  {
   "cell_type": "code",
   "execution_count": 41,
   "metadata": {},
   "outputs": [
    {
     "name": "stdout",
     "output_type": "stream",
     "text": [
      "[3, 4, 5, 6, 7]\n",
      "[1, 2, 3, 4, 5, 6, 7]\n"
     ]
    }
   ],
   "source": [
    "#Prepending and Appending items to the list\n",
    "a = [3,4,5]\n",
    "a += [6,7]\n",
    "print(a)\n",
    "a = [1,2]+a\n",
    "print(a)"
   ]
  },
  {
   "cell_type": "code",
   "execution_count": 43,
   "metadata": {},
   "outputs": [
    {
     "name": "stdout",
     "output_type": "stream",
     "text": [
      "[1, 2, 3, 4]\n"
     ]
    }
   ],
   "source": [
    "#adding single item to list\n",
    "a = [1,2,3]\n",
    "#a += 4 , wrong as only iterable can be added to a iterable\n",
    "a+= [4]\n",
    "print(a)"
   ]
  },
  {
   "cell_type": "code",
   "execution_count": 44,
   "metadata": {},
   "outputs": [
    {
     "name": "stdout",
     "output_type": "stream",
     "text": [
      "['nishant', 'pandey', 's', 'u', 's', 'h', 'a', 'n', 't']\n"
     ]
    }
   ],
   "source": [
    "#hence adding string to a list would result in\n",
    "a = [\"nishant\",\"pandey\"]\n",
    "a+=\"sushant\"\n",
    "print(a)"
   ]
  },
  {
   "cell_type": "code",
   "execution_count": 47,
   "metadata": {},
   "outputs": [
    {
     "name": "stdout",
     "output_type": "stream",
     "text": [
      "['Nishant', 'Pandey', 'Sushant']\n",
      "['Nishant', 'Pandey', 'Sushant', ['Satinder', 'Pandey']]\n"
     ]
    }
   ],
   "source": [
    "#append adds item to list a single item\n",
    "#appending items through method\n",
    "a = [\"Nishant\",\"Pandey\"]\n",
    "a.append(\"Sushant\")\n",
    "print(a)\n",
    "\n",
    "#appending list to a list as inner list\n",
    "a.append([\"Satinder\",\"Pandey\"])\n",
    "print(a)"
   ]
  },
  {
   "cell_type": "code",
   "execution_count": 48,
   "metadata": {},
   "outputs": [
    {
     "data": {
      "text/plain": [
       "['Nishant', 'Pandey', 'a', 'e', 'i', 'o', 'u']"
      ]
     },
     "execution_count": 48,
     "metadata": {},
     "output_type": "execute_result"
    }
   ],
   "source": [
    "#appending iteratable to a list but not as a inner list\n",
    "#use extend, works same as '+=' operator\n",
    "#Extends a list with the objects from an iterable.\n",
    "a = [\"Nishant\",\"Pandey\"]\n",
    "a.extend(\"aeiou\")\n",
    "a"
   ]
  },
  {
   "cell_type": "code",
   "execution_count": 49,
   "metadata": {},
   "outputs": [
    {
     "data": {
      "text/plain": [
       "[0, 1, 2, 3, 4, 5]"
      ]
     },
     "execution_count": 49,
     "metadata": {},
     "output_type": "execute_result"
    }
   ],
   "source": [
    "#list.insert(<index>, <obj>)\n",
    "#insert an object into a list\n",
    "a = [0,1,2,4,5]\n",
    "a.insert(3,3)\n",
    "a"
   ]
  },
  {
   "cell_type": "code",
   "execution_count": 51,
   "metadata": {},
   "outputs": [
    {
     "name": "stdout",
     "output_type": "stream",
     "text": [
      "[1, 2, 5]\n"
     ]
    }
   ],
   "source": [
    "#list.remove(<obj>)\n",
    "#removes an object from the list, if not found exception is raised\n",
    "a = [1,2,4,5]\n",
    "a.remove(4)\n",
    "print(a)"
   ]
  },
  {
   "cell_type": "code",
   "execution_count": 55,
   "metadata": {},
   "outputs": [
    {
     "name": "stdout",
     "output_type": "stream",
     "text": [
      "3\n"
     ]
    }
   ],
   "source": [
    "#list.pop(index=-1)\n",
    "#removes an element from the list by specifying index and returns it\n",
    "a = [1,2,3]\n",
    "print(a.pop())"
   ]
  },
  {
   "cell_type": "code",
   "execution_count": 57,
   "metadata": {},
   "outputs": [
    {
     "name": "stdout",
     "output_type": "stream",
     "text": [
      "[3, 2, 1]\n",
      "[1, 2, 3]\n"
     ]
    }
   ],
   "source": [
    "#list .reverse()\n",
    "a = [1,2,3]\n",
    "a.reverse()\n",
    "print(a)\n",
    "\n",
    "#list.sort(), must be of same datatype\n",
    "a.sort()#sorts inplace , sorted(a) returns a sorted list\n",
    "print(a)"
   ]
  },
  {
   "cell_type": "code",
   "execution_count": 60,
   "metadata": {},
   "outputs": [
    {
     "name": "stdout",
     "output_type": "stream",
     "text": [
      "True\n"
     ]
    }
   ],
   "source": [
    "#multiple references in list\n",
    "a = [1,2,3]\n",
    "b = a\n",
    "print(a is b)"
   ]
  },
  {
   "cell_type": "code",
   "execution_count": 59,
   "metadata": {},
   "outputs": [
    {
     "data": {
      "text/plain": [
       "['This', 'is', 'a', 'sentence']"
      ]
     },
     "execution_count": 59,
     "metadata": {},
     "output_type": "execute_result"
    }
   ],
   "source": [
    "#split return list of words\n",
    "s =\"This is a sentence\"\n",
    "words = s.split()\n",
    "words"
   ]
  },
  {
   "cell_type": "code",
   "execution_count": 61,
   "metadata": {},
   "outputs": [
    {
     "data": {
      "text/plain": [
       "4"
      ]
     },
     "execution_count": 61,
     "metadata": {},
     "output_type": "execute_result"
    }
   ],
   "source": [
    "#list.count() to count occurences\n",
    "l = [1,2,4,5,1,1,1]\n",
    "l.count(1)"
   ]
  },
  {
   "cell_type": "code",
   "execution_count": 62,
   "metadata": {},
   "outputs": [
    {
     "data": {
      "text/plain": [
       "[1, 4, 9, 16, 25, 36, 49, 64, 81, 100]"
      ]
     },
     "execution_count": 62,
     "metadata": {},
     "output_type": "execute_result"
    }
   ],
   "source": [
    "#list Comprehension\n",
    "sq = [x*x for x in range(1,11)]\n",
    "sq"
   ]
  },
  {
   "cell_type": "code",
   "execution_count": 63,
   "metadata": {},
   "outputs": [
    {
     "data": {
      "text/plain": [
       "[(0, 0),\n",
       " (1, 1),\n",
       " (2, 4),\n",
       " (3, 9),\n",
       " (4, 16),\n",
       " (5, 25),\n",
       " (6, 36),\n",
       " (7, 49),\n",
       " (8, 64),\n",
       " (9, 81),\n",
       " (10, 100)]"
      ]
     },
     "execution_count": 63,
     "metadata": {},
     "output_type": "execute_result"
    }
   ],
   "source": [
    "#list of tuples\n",
    "sq = [(x,x**2) for x in range(0,11) ]\n",
    "sq"
   ]
  },
  {
   "cell_type": "markdown",
   "metadata": {},
   "source": [
    "## Python Tuples\n",
    "\n",
    "similar to lists, but immutable and denoted by ( )<br>\n",
    "everthing about lists apply to tuple too, just that it can't be modified<br>\n",
    "why use them :\n",
    "   1. tuples are faster than lists\n",
    "   2. tuples are immutable, can be used whenever we don't want a modifiable DS.\n",
    "   3. Though lists are immutable (only operation is deletion), if nested and nested iteratble being mutable can be changed\n",
    "   3. Tuple Assignment, Packing, and Unpacking : tuples can be packed or unpacked but must have same count of var on each sides"
   ]
  },
  {
   "cell_type": "markdown",
   "metadata": {},
   "source": [
    "<img src=\"https://files.realpython.com/media/t.feb20d10b75d.png\" width=300px>\n",
    "<img src=\"https://files.realpython.com/media/t.629d7402a412.png\" width=300px>"
   ]
  },
  {
   "cell_type": "code",
   "execution_count": 66,
   "metadata": {},
   "outputs": [
    {
     "name": "stdout",
     "output_type": "stream",
     "text": [
      "<class 'tuple'> (1, 2, 3)\n",
      "<class 'int'> 1\n",
      "<class 'tuple'> (1,)\n"
     ]
    }
   ],
   "source": [
    "t = (1,2,3)\n",
    "print(type(t),t)\n",
    "tt = (1)\n",
    "print(type(tt),tt)\n",
    "ttt=(1,)\n",
    "print(type(ttt),ttt)"
   ]
  },
  {
   "cell_type": "code",
   "execution_count": 72,
   "metadata": {},
   "outputs": [
    {
     "data": {
      "text/plain": [
       "(1, 2, 3)"
      ]
     },
     "execution_count": 72,
     "metadata": {},
     "output_type": "execute_result"
    }
   ],
   "source": [
    "#while packing and unpacking parenthesis can be removed\n",
    "t = (1,2,3)\n",
    "a,b,c = t\n",
    "a,b,c"
   ]
  },
  {
   "cell_type": "code",
   "execution_count": 70,
   "metadata": {},
   "outputs": [
    {
     "data": {
      "text/plain": [
       "(2, 1)"
      ]
     },
     "execution_count": 70,
     "metadata": {},
     "output_type": "execute_result"
    }
   ],
   "source": [
    "#swapping one-liner with tuple\n",
    "a,b=1,2\n",
    "a,b=b,a\n",
    "a,b"
   ]
  },
  {
   "cell_type": "code",
   "execution_count": null,
   "metadata": {},
   "outputs": [],
   "source": []
  }
 ],
 "metadata": {
  "kernelspec": {
   "display_name": "Python 3",
   "language": "python",
   "name": "python3"
  },
  "language_info": {
   "codemirror_mode": {
    "name": "ipython",
    "version": 3
   },
   "file_extension": ".py",
   "mimetype": "text/x-python",
   "name": "python",
   "nbconvert_exporter": "python",
   "pygments_lexer": "ipython3",
   "version": "3.8.5"
  }
 },
 "nbformat": 4,
 "nbformat_minor": 4
}
