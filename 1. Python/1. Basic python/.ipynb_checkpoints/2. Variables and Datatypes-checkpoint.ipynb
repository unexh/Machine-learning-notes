{
 "cells": [
  {
   "cell_type": "markdown",
   "metadata": {},
   "source": [
    "## Variables\n",
    "\n",
    "Variables in python are dynamically typed (we don't have to assign any datatype to them.\n",
    "\n",
    "<p>In many programming languages, variables are statically typed. That means a variable is initially declared to have a specific data type, and any value assigned to it during its lifetime must always have that type.\n",
    "\n",
    "Variables in Python are not subject to this restriction. In Python, a variable may be assigned a value of one type and then later re-assigned a value of a different type</p>"
   ]
  },
  {
   "cell_type": "code",
   "execution_count": 5,
   "metadata": {},
   "outputs": [],
   "source": [
    "a = 12"
   ]
  },
  {
   "cell_type": "markdown",
   "metadata": {},
   "source": [
    "https://realpython.com/python-variables/\n",
    "<br>\n",
    "\n",
    "<p> When you create a python var, it is actually a reference to an object (everthing in python is object). and that object has a COUNTER, we when reassign the reference to a new object its counter decreases.</p>\n",
    "    \n",
    "<p> If the counter becomes 0, it is then garbage collected. If a new var is declared with same value, we have a new reference to same object and counter increases once again. </p>\n",
    "    \n",
    "<p> Moreover, ever object has a a unique value associated with it called ID number so that it can be identified uniquely, hence varibles having same objects results in same ID number</p>\n",
    "\n",
    "<p>For purposes of optimization, the interpreter creates objects for the integers in the range [-5, 256] at startup, and then reuses them during program execution. Thus, when you assign separate variables to an integer value in this range, they will actually reference the same object.</p>"
   ]
  },
  {
   "cell_type": "code",
   "execution_count": 6,
   "metadata": {},
   "outputs": [
    {
     "name": "stdout",
     "output_type": "stream",
     "text": [
      "139915902986064 139915902986000\n"
     ]
    }
   ],
   "source": [
    "x = 300\n",
    "y = 300 \n",
    "print(id(x),id(y))"
   ]
  },
  {
   "cell_type": "code",
   "execution_count": 7,
   "metadata": {},
   "outputs": [
    {
     "name": "stdout",
     "output_type": "stream",
     "text": [
      "94074797849920 94074797849920\n"
     ]
    }
   ],
   "source": [
    "a = 1\n",
    "b = 1\n",
    "print(id(a),id(b))"
   ]
  },
  {
   "cell_type": "markdown",
   "metadata": {},
   "source": [
    "## Checking Types and Instances\n"
   ]
  },
  {
   "cell_type": "code",
   "execution_count": 8,
   "metadata": {},
   "outputs": [
    {
     "name": "stdout",
     "output_type": "stream",
     "text": [
      "True\n",
      "<class 'complex'>\n"
     ]
    }
   ],
   "source": [
    "a = 12 + 3j\n",
    "print(isinstance(a,complex))\n",
    "print(type(a))"
   ]
  },
  {
   "cell_type": "markdown",
   "metadata": {},
   "source": [
    "## Python datatypes:\n",
    "\n",
    "1. Integer : No limit on size (memory is the only limit)<br>\n",
    "    following strings should be prepended inorder to change bases of integers:<br>\n",
    "    '0b<number>' -> binary<br>\n",
    "    '0o<number>' -> octal<br>\n",
    "    '0x<number>' -> hexadecimal<br>"
   ]
  },
  {
   "cell_type": "code",
   "execution_count": 12,
   "metadata": {},
   "outputs": [
    {
     "name": "stdout",
     "output_type": "stream",
     "text": [
      "5\n"
     ]
    }
   ],
   "source": [
    "print(0b101) #priniting 101 in integer"
   ]
  },
  {
   "cell_type": "markdown",
   "metadata": {},
   "source": [
    "2. Float: these are int with decimal points and can be used with scientific notations<br>\n"
   ]
  },
  {
   "cell_type": "code",
   "execution_count": 14,
   "metadata": {},
   "outputs": [
    {
     "name": "stdout",
     "output_type": "stream",
     "text": [
      "<class 'float'>\n",
      "<class 'float'>\n"
     ]
    }
   ],
   "source": [
    "print(type(1e100))\n",
    "print(type(4.5))"
   ]
  },
  {
   "cell_type": "markdown",
   "metadata": {},
   "source": [
    "Notes: <p>Almost all platforms represent Python float values as 64-bit “double-precision” values, according to the IEEE 754 standard. In that case, the maximum value a floating-point number can have is approximately 1.8 ⨉ 10308. Python will indicate a number greater than that by the string inf: </p>\n",
    "\n",
    "<p>\n",
    "    The closest a nonzero number can be to zero is approximately 5.0 ⨉ 10-324. Anything closer to zero than that is effectively zero:\n",
    "    </p>"
   ]
  },
  {
   "cell_type": "code",
   "execution_count": 22,
   "metadata": {},
   "outputs": [
    {
     "name": "stdout",
     "output_type": "stream",
     "text": [
      "1.7e+308\n",
      "inf\n",
      "5e-324\n",
      "0.0\n"
     ]
    }
   ],
   "source": [
    "print(1.7e308)\n",
    "print(1.8e308)\n",
    "print(4.9e-324)\n",
    "print(1e-325)"
   ]
  },
  {
   "cell_type": "markdown",
   "metadata": {},
   "source": [
    "3. Complex Number\n",
    "<p>Complex numbers are specified as <real part>+<imaginary part>j. For example: </p>"
   ]
  },
  {
   "cell_type": "code",
   "execution_count": 23,
   "metadata": {},
   "outputs": [
    {
     "name": "stdout",
     "output_type": "stream",
     "text": [
      "(1+3j)\n",
      "<class 'complex'>\n"
     ]
    }
   ],
   "source": [
    "print(1+3j)\n",
    "print(type(1+3j))"
   ]
  },
  {
   "cell_type": "markdown",
   "metadata": {},
   "source": [
    "4. String\n",
    "<p> Strings are sequences of character data. The string type in Python is called str.<br>\n",
    "    No limit on size (memory limit,is the only limit)<br>\n",
    "    <b>Escape sequences</b> can be used, in order to special meaning to characters inside a string <br>\n",
    "    <b>A raw string </b> literal is preceded by r or R, which specifies that escape sequences in the associated string are not translated. The backslash character is left in the string<br>\n",
    "    Also python strings can be delimited with \"\"\"__string__\"\"\" : this doesn't enforce us tp use Escape sequences for newline,' ans \"\n",
    "</p>"
   ]
  },
  {
   "cell_type": "code",
   "execution_count": 24,
   "metadata": {},
   "outputs": [
    {
     "name": "stdout",
     "output_type": "stream",
     "text": [
      "\n",
      "<class 'str'>\n"
     ]
    }
   ],
   "source": [
    "print('')\n",
    "print(type(''))"
   ]
  },
  {
   "cell_type": "markdown",
   "metadata": {},
   "source": [
    "Escape sequences \\\n",
    "\\newLine | \\t | \\\\ | \\ ' | \\ \"\\\n",
    "and raw string example "
   ]
  },
  {
   "cell_type": "code",
   "execution_count": 32,
   "metadata": {},
   "outputs": [
    {
     "name": "stdout",
     "output_type": "stream",
     "text": [
      "this is a\t tab\n",
      "this is a\n",
      "new line\n",
      "This\b\n",
      "http:\\\\localhost:8888\\otebook\\Dsktop\\L\\.%20Python\\.%20Basic%20python\\ntitled.ipynb\n"
     ]
    }
   ],
   "source": [
    "print(\"this is a\\t tab\")\n",
    "print(\"this is a\\nnew line\")\n",
    "print(\"This\\b\")\n",
    "#without raw string\n",
    "# print(\"http:\\\\localhost:8888\\notebook\\Desktop\\L\\1.%20Python\\1.%20Basic%20python\\Untitled.ipynb\")\n",
    "#without raw string\n",
    "print(r\"http:\\\\localhost:8888\\otebook\\Dsktop\\L\\.%20Python\\.%20Basic%20python\\ntitled.ipynb\")"
   ]
  },
  {
   "cell_type": "markdown",
   "metadata": {},
   "source": [
    "5. Boolean:\\\n",
    "True and False"
   ]
  },
  {
   "cell_type": "code",
   "execution_count": 33,
   "metadata": {},
   "outputs": [
    {
     "name": "stdout",
     "output_type": "stream",
     "text": [
      "True False\n",
      "<class 'bool'>\n"
     ]
    }
   ],
   "source": [
    "print(True,False)\n",
    "print(type(True))"
   ]
  },
  {
   "cell_type": "markdown",
   "metadata": {},
   "source": [
    "## Built-in datatypes in python\n",
    "py3.6 has 68 built-in functions\\\n",
    "Math:\\\n",
    "abs(), divmod(), max(), min(), pow(), round(), sum(), bin()"
   ]
  },
  {
   "cell_type": "code",
   "execution_count": 70,
   "metadata": {},
   "outputs": [
    {
     "name": "stdout",
     "output_type": "stream",
     "text": [
      "abs(9-19) : 10\n",
      "divmod(11,2):  (5, 1)\n",
      "max(['a','b']):  b\n",
      "min(['a','b']):  a\n",
      "pow(0.5,2):  0.25\n",
      "round(4.5):  4\n",
      "sum([2,2]):  4\n",
      "bin(12):  0b1100\n"
     ]
    }
   ],
   "source": [
    "print(\"abs(9-19) :\",abs(9-19))\n",
    "print(\"divmod(11,2): \",divmod(11,2))\n",
    "print(\"max(['a','b']): \",max(['a','b']))\n",
    "print(\"min(['a','b']): \",min(['a','b']))\n",
    "print(\"pow(0.5,2): \",pow(0.5,2))\n",
    "print(\"round(4.5): \",round(4.5))\n",
    "print(\"sum([2,2]): \",sum([2,2]))\n",
    "print(\"bin(12): \",bin(12))"
   ]
  },
  {
   "cell_type": "markdown",
   "metadata": {},
   "source": [
    "Iterables and Iterators: \\\n",
    "all(), any(), enumerate(), filter(), iter(), len(), map(), next(), range(), reversed(), slice(), sorted(), zip()"
   ]
  },
  {
   "cell_type": "markdown",
   "metadata": {},
   "source": [
    "Moreover we have built-in containers to handle structures"
   ]
  },
  {
   "cell_type": "code",
   "execution_count": null,
   "metadata": {},
   "outputs": [],
   "source": []
  }
 ],
 "metadata": {
  "kernelspec": {
   "display_name": "Python 3",
   "language": "python",
   "name": "python3"
  },
  "language_info": {
   "codemirror_mode": {
    "name": "ipython",
    "version": 3
   },
   "file_extension": ".py",
   "mimetype": "text/x-python",
   "name": "python",
   "nbconvert_exporter": "python",
   "pygments_lexer": "ipython3",
   "version": "3.8.5"
  }
 },
 "nbformat": 4,
 "nbformat_minor": 4
}
