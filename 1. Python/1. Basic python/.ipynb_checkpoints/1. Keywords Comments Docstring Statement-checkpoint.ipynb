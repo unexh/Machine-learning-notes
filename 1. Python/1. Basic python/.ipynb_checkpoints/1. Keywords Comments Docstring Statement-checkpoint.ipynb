{
 "cells": [
  {
   "cell_type": "markdown",
   "metadata": {},
   "source": [
    "## Python keywords\n",
    "\n",
    "These are reserverd words in python, can't be used as any identifers (var name or function name).<br>\n",
    "These are case sensitive too"
   ]
  },
  {
   "cell_type": "code",
   "execution_count": 2,
   "metadata": {},
   "outputs": [
    {
     "name": "stdout",
     "output_type": "stream",
     "text": [
      "['False', 'None', 'True', 'and', 'as', 'assert', 'async', 'await', 'break', 'class', 'continue', 'def', 'del', 'elif', 'else', 'except', 'finally', 'for', 'from', 'global', 'if', 'import', 'in', 'is', 'lambda', 'nonlocal', 'not', 'or', 'pass', 'raise', 'return', 'try', 'while', 'with', 'yield']\n",
      "\n",
      "Count :  35\n"
     ]
    }
   ],
   "source": [
    "#getting keywords in python\n",
    "import keyword\n",
    "print(keyword.kwlist,end=\"\\n\\n\")\n",
    "print(\"Count : \",len(keyword.kwlist))"
   ]
  },
  {
   "cell_type": "markdown",
   "metadata": {},
   "source": [
    "## Identifiers\n",
    "These are the name given to the various entities in program.<br>\n",
    "Rules:<br>\n",
    "    1. These must be alphanumeric with underscore and can't start with a number (like 1var X)<br>\n",
    "    2. Keywords can't be used as an valid identifier.<br>"
   ]
  },
  {
   "cell_type": "code",
   "execution_count": 3,
   "metadata": {},
   "outputs": [
    {
     "ename": "SyntaxError",
     "evalue": "invalid syntax (<ipython-input-3-ca4f8b623194>, line 1)",
     "output_type": "error",
     "traceback": [
      "\u001b[0;36m  File \u001b[0;32m\"<ipython-input-3-ca4f8b623194>\"\u001b[0;36m, line \u001b[0;32m1\u001b[0m\n\u001b[0;31m    new_var = 12 '''Valid'''\u001b[0m\n\u001b[0m                 ^\u001b[0m\n\u001b[0;31mSyntaxError\u001b[0m\u001b[0;31m:\u001b[0m invalid syntax\n"
     ]
    }
   ],
   "source": [
    "new_var = 12 '''Valid'''\n",
    "global = 14 '''Invalid'''"
   ]
  },
  {
   "cell_type": "markdown",
   "metadata": {},
   "source": [
    "## Comments in Python\n",
    "\n",
    "2 Types:<br>\n",
    "    1. Single line : <code>#this is a comment</code><br>\n",
    "    2. Multiline comment using docstring : <code>\"\"\" this is a multiline comment\"\"\"</code><br>\n",
    "    <p>Note: While this gives you the multiline functionality, this isn’t technically a comment. It’s a string that’s not assigned to any variable, so it’s not called or referenced by your program. Still, since it’ll be ignored at runtime and won’t appear in the bytecode, it can effectively act as a comment.</p>"
   ]
  },
  {
   "cell_type": "markdown",
   "metadata": {},
   "source": [
    "## Docstring in Python\n",
    "\n",
    "Short for _DOCUMENT STRING_, these are the first statement in any module,class or function breifly describing the purpose of the code."
   ]
  },
  {
   "cell_type": "code",
   "execution_count": 5,
   "metadata": {},
   "outputs": [
    {
     "name": "stdout",
     "output_type": "stream",
     "text": [
      "This Function returns the square of a number.\n",
      "144\n"
     ]
    }
   ],
   "source": [
    "def sq(x):\n",
    "    \"\"\"This Function returns the square of a number.\"\"\"\n",
    "    return x*x\n",
    "\n",
    "print(sq.__doc__)\n",
    "print(sq(12))"
   ]
  },
  {
   "cell_type": "markdown",
   "metadata": {},
   "source": [
    "## Python Statements\n",
    "\n",
    "Instructions that python interpreter can execute are called python statements <br>"
   ]
  },
  {
   "cell_type": "code",
   "execution_count": 7,
   "metadata": {},
   "outputs": [],
   "source": [
    "a=1"
   ]
  },
  {
   "cell_type": "markdown",
   "metadata": {},
   "source": [
    "Multiline statements in python can be written in 2 ways"
   ]
  },
  {
   "cell_type": "code",
   "execution_count": 11,
   "metadata": {},
   "outputs": [
    {
     "name": "stdout",
     "output_type": "stream",
     "text": [
      "45 45\n"
     ]
    }
   ],
   "source": [
    "#1\n",
    "a = 1 + 2 + 3 \\\n",
    "    + 4 + 5 + 6 \\\n",
    "    + 7 + 8 + 9\n",
    "#2\n",
    "b = (1 + 2 + 3\n",
    "     + 4 + 5 + 6\n",
    "     + 7 + 8 + 9)\n",
    "\n",
    "print(a,b)"
   ]
  },
  {
   "cell_type": "code",
   "execution_count": 1,
   "metadata": {},
   "outputs": [
    {
     "ename": "SyntaxError",
     "evalue": "invalid syntax (<ipython-input-1-4d67973ad178>, line 2)",
     "output_type": "error",
     "traceback": [
      "\u001b[0;36m  File \u001b[0;32m\"<ipython-input-1-4d67973ad178>\"\u001b[0;36m, line \u001b[0;32m2\u001b[0m\n\u001b[0;31m    https://realpython.com/python-input-output/\u001b[0m\n\u001b[0m          ^\u001b[0m\n\u001b[0;31mSyntaxError\u001b[0m\u001b[0;31m:\u001b[0m invalid syntax\n"
     ]
    }
   ],
   "source": [
    "#python basic i/o\n",
    "https://realpython.com/python-input-output/"
   ]
  },
  {
   "cell_type": "code",
   "execution_count": null,
   "metadata": {},
   "outputs": [],
   "source": []
  }
 ],
 "metadata": {
  "kernelspec": {
   "display_name": "Python 3",
   "language": "python",
   "name": "python3"
  },
  "language_info": {
   "codemirror_mode": {
    "name": "ipython",
    "version": 3
   },
   "file_extension": ".py",
   "mimetype": "text/x-python",
   "name": "python",
   "nbconvert_exporter": "python",
   "pygments_lexer": "ipython3",
   "version": "3.8.5"
  }
 },
 "nbformat": 4,
 "nbformat_minor": 4
}
