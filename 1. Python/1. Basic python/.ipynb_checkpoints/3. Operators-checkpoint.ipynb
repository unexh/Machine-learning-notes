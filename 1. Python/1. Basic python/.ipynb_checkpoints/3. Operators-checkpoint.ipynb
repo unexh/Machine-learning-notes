{
 "cells": [
  {
   "cell_type": "markdown",
   "metadata": {},
   "source": [
    "# Operators\n",
    "\n",
    "<p> Operators are special symbols in Python that carry out arithmetic or logical computation. The value that the operator operates on is called the operand.<p>\n",
    "\n",
    "### Opertors Type:\n",
    "    1. Arithmetic operators\n",
    "    \n",
    "    2. Comparison (Relational) operators\n",
    "\n",
    "    3. Logical (Boolean) operators\n",
    "\n",
    "    4. Bitwise operators\n",
    "\n",
    "    5. Assignment operators\n",
    "\n",
    "    6. Special operators\n",
    "\n",
    "    "
   ]
  },
  {
   "cell_type": "markdown",
   "metadata": {},
   "source": [
    "## 1. Arithmetic Operators\n",
    "\n",
    "<p>This is same as every other language.</p>\n",
    "\n",
    "**Notes:**\\\n",
    "    1. **a/b** : returns a **float type** regardless of what it evalutes\\\n",
    "    2. **a//b** : returns a floor division value (integer) , to **its nearest integers** (positive: turncated,negative: smaller integer)\\\n",
    "    3. **a\\*\\*b** : returns a^b"
   ]
  },
  {
   "cell_type": "code",
   "execution_count": 5,
   "metadata": {},
   "outputs": [
    {
     "name": "stdout",
     "output_type": "stream",
     "text": [
      "<class 'float'>\n",
      "-2\n",
      "8\n"
     ]
    }
   ],
   "source": [
    "print(type(4/2))\n",
    "print(-4//3)\n",
    "print(2**3)"
   ]
  },
  {
   "cell_type": "markdown",
   "metadata": {},
   "source": [
    "## 2. Comparison Operators\n",
    "<p> same as every other language </p>\n",
    "\n",
    "**Note:**\\\n",
    "    1. **Float comaprison caution**: Two floats shouldn't be compared as it is, their internal value may not be precised enough. Its better off to give them some *Tolerance*."
   ]
  },
  {
   "cell_type": "code",
   "execution_count": 28,
   "metadata": {},
   "outputs": [
    {
     "name": "stdout",
     "output_type": "stream",
     "text": [
      "False\n",
      "1e-10\n",
      "True\n"
     ]
    }
   ],
   "source": [
    "#1. example\n",
    "a=1.1+2.2\n",
    "c=3.3\n",
    "print(a == c)\n",
    "\n",
    "#better to do\n",
    "tolerance = 1e-10\n",
    "print(tolerance)\n",
    "print(abs(a-c)<=tolerance)"
   ]
  },
  {
   "cell_type": "markdown",
   "metadata": {},
   "source": [
    "## 3. Logical Operators\n",
    "<p> Python offers all the basic logical operators as all other language does.</p>\n",
    "\n",
    "**Note:**\\\n",
    "    1. **Evaluation of Non-Boolean Values in Boolean Context** :\n",
    "    <p> All the following are considered false when evaluated in Boolean context\n",
    "    \n",
    "        1. The Boolean value False\n",
    "        2. Any value that is numerically zero (0, 0.0, 0.0+0.0j)\n",
    "        3. An empty string\n",
    "        4. An object of a built-in composite data type which is empty (empty list,tuple and dict)\n",
    "        5. The special value denoted by the Python keyword None\n",
    "    \n",
    "Virtually any other object built into Python is regarded as true.\n",
    "\n",
    "You can determine the “truthiness” of an object or expression with the built-in bool() function. bool() returns True if its argument is truthy and False if it is falsy.</p>"
   ]
  },
  {
   "cell_type": "code",
   "execution_count": 22,
   "metadata": {},
   "outputs": [
    {
     "name": "stdout",
     "output_type": "stream",
     "text": [
      "False\n",
      "False\n",
      "False\n",
      "False\n",
      "False\n"
     ]
    }
   ],
   "source": [
    "#example\n",
    "print(bool(False))\n",
    "print(bool(0.0))\n",
    "print(bool(\"\"))\n",
    "li = []\n",
    "print(bool(li))\n",
    "print(bool(None))"
   ]
  },
  {
   "cell_type": "markdown",
   "metadata": {},
   "source": [
    "2. **Some points to keep in mind** :\n",
    "    <p> \n",
    "    \n",
    "        1. Non-boolean values can also be evaluated by and, or and not operators\n",
    "        2. Python uses a methodology called short-circuit evaluation, also called McCarthy evaluation in honor of computer scientist John McCarthy.\n",
    "            a. avoid exceptions\n",
    "            b. selecting default vaules\n",
    "            c. chained comparisons (advantage is only once evaluated) \n",
    "    \n",
    "Virtually any other object built into Python is regarded as true.\n",
    "\n",
    "You can determine the “truthiness” of an object or expression with the built-in bool() function. bool() returns True if its argument is truthy and False if it is falsy.</p>"
   ]
  },
  {
   "cell_type": "code",
   "execution_count": 23,
   "metadata": {},
   "outputs": [
    {
     "name": "stdout",
     "output_type": "stream",
     "text": [
      "default\n"
     ]
    }
   ],
   "source": [
    "#2.a : avoid execptions\n",
    "a=0\n",
    "b=1\n",
    "if a!=0 and a/b > 0:\n",
    "    print(a/b)#won't print\n",
    "    \n",
    "    \n",
    "#2.b : selecting defalut values\n",
    "a= \"\" or \"default\"\n",
    "print(a)\n",
    "\n",
    "\n",
    "#2.c : chained compairison\n",
    "\n",
    "# if (x<f() <=z) (one comp)\n",
    "# if (x<f() and f()<=z) (two comp) "
   ]
  },
  {
   "cell_type": "markdown",
   "metadata": {},
   "source": [
    "## 3. Bitwise Operators\n",
    "<p> Bitwise operators treat operands as sequences of binary digits and operate on them bit by bit. </p>\n",
    "<p>\n",
    "    1. **following are the types** :\n",
    "\n",
    "        1. a & b : bitwise and of every bit in number\n",
    "        2. a | b : or\n",
    "        3. a ^ b : xor\n",
    "        4. a >> n : right shift n times\n",
    "        5. a << n : left shift n times\n",
    "    \n",
    "Virtually any other object built into Python is regarded as true.\n",
    "\n",
    "You can determine the “truthiness” of an object or expression with the built-in bool() function. bool() returns True if its argument is truthy and False if it is falsy.</p>"
   ]
  },
  {
   "cell_type": "code",
   "execution_count": 31,
   "metadata": {},
   "outputs": [
    {
     "data": {
      "text/plain": [
       "'0001'"
      ]
     },
     "execution_count": 31,
     "metadata": {},
     "output_type": "execute_result"
    }
   ],
   "source": [
    "#example\n",
    "'{:04b}'.format(0b1011&0b0101)"
   ]
  },
  {
   "cell_type": "markdown",
   "metadata": {},
   "source": [
    "## 4. Identity Operators\n",
    "These return bool values depending upon there two operand refer to same object (have same identity?), by comparing there **id()'s.** \n",
    "<p>\n",
    "    1. **following are the types** :\n",
    "\n",
    "        1. is \n",
    "        2. is not\n",
    "</p>"
   ]
  },
  {
   "cell_type": "code",
   "execution_count": 35,
   "metadata": {},
   "outputs": [
    {
     "name": "stdout",
     "output_type": "stream",
     "text": [
      "94394277407136 94394277407136\n",
      "True\n"
     ]
    }
   ],
   "source": [
    "x=100\n",
    "y=100\n",
    "print(id(x),id(y))\n",
    "print(x is y)"
   ]
  },
  {
   "cell_type": "markdown",
   "metadata": {},
   "source": [
    "## 4. Operator Precedence\n",
    "**lowest precedence** <br>\n",
    "or <bR>\n",
    "and\t<bR>\n",
    "not\t<bR>\n",
    "==, !=, <, <=, >, >=, is, is not<bR>\n",
    "| <bR>\n",
    "^<bR>\n",
    "&<bR>\n",
    "<<, >><bR>\n",
    "+, -\taddition, subtraction<bR>\n",
    "*, /, //, %\t<bR>\n",
    "+x, -x, ~x\tunary positive, unary negation, bitwise negation<bR>\n",
    "**\texponentiation<bR>\n",
    "    \n",
    "Operator precedence can be overridden using parentheses. "
   ]
  },
  {
   "cell_type": "code",
   "execution_count": 37,
   "metadata": {},
   "outputs": [
    {
     "data": {
      "text/plain": [
       "24"
      ]
     },
     "execution_count": 37,
     "metadata": {},
     "output_type": "execute_result"
    }
   ],
   "source": [
    "2 ** 3 * 3 #2^3 *3"
   ]
  },
  {
   "cell_type": "code",
   "execution_count": null,
   "metadata": {},
   "outputs": [],
   "source": []
  }
 ],
 "metadata": {
  "kernelspec": {
   "display_name": "Python 3",
   "language": "python",
   "name": "python3"
  },
  "language_info": {
   "codemirror_mode": {
    "name": "ipython",
    "version": 3
   },
   "file_extension": ".py",
   "mimetype": "text/x-python",
   "name": "python",
   "nbconvert_exporter": "python",
   "pygments_lexer": "ipython3",
   "version": "3.8.5"
  }
 },
 "nbformat": 4,
 "nbformat_minor": 4
}
