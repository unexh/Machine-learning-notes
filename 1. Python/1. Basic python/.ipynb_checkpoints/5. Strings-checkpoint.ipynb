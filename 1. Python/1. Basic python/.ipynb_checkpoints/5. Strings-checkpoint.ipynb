{
 "cells": [
  {
   "cell_type": "markdown",
   "metadata": {},
   "source": [
    "## Strings\n",
    "these are sequences of character\n",
    "\n",
    "*Refer* : https://realpython.com/python-strings/"
   ]
  },
  {
   "cell_type": "code",
   "execution_count": 4,
   "metadata": {},
   "outputs": [
    {
     "name": "stdout",
     "output_type": "stream",
     "text": [
      "stringstring\n",
      "\n"
     ]
    }
   ],
   "source": [
    "#arithmetic operators on string\n",
    "s=\"string\"\n",
    "n=2\n",
    "print(s*n)#n times copies of s\n",
    "print(s*-1)#if n == -1 || 0 : return \"\""
   ]
  },
  {
   "cell_type": "code",
   "execution_count": 6,
   "metadata": {},
   "outputs": [
    {
     "name": "stdout",
     "output_type": "stream",
     "text": [
      "True\n"
     ]
    }
   ],
   "source": [
    "#in operator\n",
    "s=\"Is your name Nishant?\"\n",
    "p=\"Nishant\"\n",
    "print(p in s)#checks if p is in s"
   ]
  },
  {
   "cell_type": "markdown",
   "metadata": {},
   "source": [
    "## some built-in stirng functions\n",
    "1. ord('a') : returns int for a char (aacii and unicode)\n",
    "2. chr(97) : returns char for a int (basically reverse of ord)\n",
    "3. len(string) : returns count of char in a string (length) \n",
    "4. str(object) : returns string version of a object (any object can be rendered as python string) "
   ]
  },
  {
   "cell_type": "code",
   "execution_count": 14,
   "metadata": {},
   "outputs": [
    {
     "name": "stdout",
     "output_type": "stream",
     "text": [
      "97\n",
      "a\n",
      "7\n",
      "101\n"
     ]
    }
   ],
   "source": [
    "print(ord('a'))\n",
    "print(chr(97))\n",
    "print(len(\"nishant\"))\n",
    "print(str(100+1))"
   ]
  },
  {
   "cell_type": "markdown",
   "metadata": {},
   "source": [
    "## string indexing\n",
    "1. starts with 0\n",
    "2. ends with len(s)-1\n",
    "3. can have negative indices\n",
    "4. s[-1] is last\n",
    "5. s[-len(s)] is first\n",
    "6. accessing invalid index results (string index out of range error)"
   ]
  },
  {
   "cell_type": "code",
   "execution_count": 20,
   "metadata": {},
   "outputs": [
    {
     "name": "stdout",
     "output_type": "stream",
     "text": [
      "1 5\n",
      "5 1\n"
     ]
    }
   ],
   "source": [
    "s=\"12345\"\n",
    "print(s[0],s[len(s)-1])\n",
    "print(s[-1],s[-len(s)])"
   ]
  },
  {
   "cell_type": "markdown",
   "metadata": {},
   "source": [
    "## string slicing\n",
    "1. this allows to extract a substring from a string in the form of indexing\n",
    "2. s[m:n] : s[m] .. s[n-1] , basically of len(n-m)\n",
    "3. s[:m] = s[0:m] : s[0] .. s[m-1]\n",
    "4. s[n:] = s[n:len(s)] : s[n] .. s[len(s)-1]\n",
    "5. s[:] : return reference to original string, not a copy\n",
    "6. if s[n:m] where n>m : returns empty string\n",
    "7. similarly negative indices can be used"
   ]
  },
  {
   "cell_type": "code",
   "execution_count": 41,
   "metadata": {},
   "outputs": [
    {
     "name": "stdout",
     "output_type": "stream",
     "text": [
      "01234\n",
      "012345\n",
      "12345\n",
      "True\n",
      "\n",
      "01234\n"
     ]
    }
   ],
   "source": [
    "s = \"012345\"\n",
    "print(s[0:5])\n",
    "print(s[:len(s)])\n",
    "print(s[1:])\n",
    "print(s[:] is s)\n",
    "print(s[len(s):0])#returns empty string\n",
    "print(s[-len(s):-1])"
   ]
  },
  {
   "cell_type": "markdown",
   "metadata": {},
   "source": [
    "## Spicifying a stride (step) in string slice\n",
    "1. this can be done using s[m:n:s], where s is step-size (can be negative too)\n",
    "2. if m,n are ommitted, they take ther default values\n",
    "3. s[::-stepsize], then m=-1,n=len(s)\n",
    "4. s[::-1] : can be used reverse the string"
   ]
  },
  {
   "cell_type": "code",
   "execution_count": 56,
   "metadata": {},
   "outputs": [
    {
     "name": "stdout",
     "output_type": "stream",
     "text": [
      "bc\n",
      "def\n",
      "fedcba\n"
     ]
    }
   ],
   "source": [
    "s = \"abcdef\"\n",
    "print(s[1:3:1])\n",
    "print(s[-3::])\n",
    "print(s[::-1])"
   ]
  },
  {
   "cell_type": "markdown",
   "metadata": {},
   "source": [
    "## Interplating variables into String\n",
    "1. f-string can be used instead of format, to better format strings (f\"string{var}\", F\"string{var}\")"
   ]
  },
  {
   "cell_type": "code",
   "execution_count": 58,
   "metadata": {},
   "outputs": [
    {
     "name": "stdout",
     "output_type": "stream",
     "text": [
      "Hey! my name is Nishant and my age is 20\n"
     ]
    }
   ],
   "source": [
    "name,age=\"Nishant\",20\n",
    "print(f\"Hey! my name is {name} and my age is {age}\")"
   ]
  },
  {
   "cell_type": "markdown",
   "metadata": {},
   "source": [
    "## Modifying strings in python\n",
    "1. python strings are immutable.\n",
    "2. we can modify strings in different manner."
   ]
  },
  {
   "cell_type": "code",
   "execution_count": 64,
   "metadata": {},
   "outputs": [
    {
     "name": "stdout",
     "output_type": "stream",
     "text": [
      "nishant pandey\n",
      "nishant pandey\n"
     ]
    }
   ],
   "source": [
    "s = \"nishantpandey\"\n",
    "print(s[:7]+' '+s[7:])\n",
    "s = \"nishant_pandey\"\n",
    "print(s.replace('_',' '))"
   ]
  },
  {
   "cell_type": "markdown",
   "metadata": {},
   "source": [
    "## Builtin strings methods\n",
    "1. Case Conversions<br>\n",
    "**s.capitalize()** : returns a copy of string, with first uppercase and others lower case, non-alphabetic remains unchanged<br>\n",
    "**s.lower()** : returns a copy of string with all lower case char<br>\n",
    "**s.swapcase()** : returns a copy of string with inverted cases of char<br>\n",
    "**s.title()** : returna a copy of string with all the words having first char capital<br>\n",
    "**s.upper()** : returns a copy of string with all char caps"
   ]
  },
  {
   "cell_type": "code",
   "execution_count": 8,
   "metadata": {},
   "outputs": [
    {
     "name": "stdout",
     "output_type": "stream",
     "text": [
      "Nishant pandey\n",
      "nishant pandey\n",
      "NISHANT PANDEY\n",
      "Nishant Pandey\n",
      "NISHANT PANDEY\n"
     ]
    }
   ],
   "source": [
    "s = \"nishant pandey\"\n",
    "print(s.capitalize())\n",
    "print(s.lower())\n",
    "print(s.swapcase())\n",
    "print(s.title())\n",
    "print(s.upper())"
   ]
  },
  {
   "cell_type": "markdown",
   "metadata": {},
   "source": [
    "## find and replace\n",
    "these methods provides vairous ways to search a substring in a string. start and end are optional for marking smaller substring\n",
    "\n",
    "1. \n",
    "<code>s.count(sub[,start[,end]])</code><br>\n",
    "    Counts occurrences of a substring in the target string.<br>\n",
    "\n",
    "\n",
    "2. \n",
    "<code>s.endswith(suffix[,start[,end]])</code><br>\n",
    "    Determines whether the target string ends with a given substring.<br>\n",
    " \n",
    " \n",
    "3. \n",
    "<code>s.find(sub[,start[,end]])</code><br>\n",
    "    Searches the target string for a given substring. returns index of the lowest substring or -1.<br>\n",
    "  \n",
    " \n",
    "4. \n",
    "<code>s.index(sub[,start[,end]])</code><br>\n",
    "    This method is identical to .find(), except that it raises an exception if 'sub' is not found rather than returning -1:<br>\n",
    " \n",
    "   \n",
    " 5. \n",
    "<code>s.startswith(sub[,start[,end]])</code><br>\n",
    "    Determines whether the target string starts with a given substring.<br>\n",
    " "
   ]
  },
  {
   "cell_type": "code",
   "execution_count": 18,
   "metadata": {},
   "outputs": [
    {
     "name": "stdout",
     "output_type": "stream",
     "text": [
      "3\n",
      "2\n",
      "True\n",
      "-1\n",
      "True\n"
     ]
    }
   ],
   "source": [
    "s = \"foo goo soo\"\n",
    "print(s.count('oo'))\n",
    "print(s.count('oo',3))\n",
    "print(s.endswith('soo'))\n",
    "print(s.find('gooo'))\n",
    "#print(s.index('gooo'))#raises error\n",
    "print(s.startswith('foo'))"
   ]
  },
  {
   "cell_type": "markdown",
   "metadata": {},
   "source": [
    "## Character Classification\n",
    "Methods in this group classify a string based on the characters it contains.<br>\n",
    "**NOTE:** other than *s.isprintable()* all the methods return false, provided empty strings.\n",
    "\n",
    "1. \n",
    "<code>s.isalnum()</code><br>\n",
    "    Determines whether the target string consists of alphanumeric characters.<br>\n",
    "\n",
    "\n",
    "2. \n",
    "<code>s.isalpha()</code><br>\n",
    "    Determines whether the target string consists of alphabetic characters.<br>\n",
    " \n",
    " \n",
    "3. \n",
    "<code>s.isidentifier()</code><br>\n",
    "    Determines whether the target string is a valid Python identifier. **NOTE**\n",
    "    : this returns true even for keywords which are not identifiers, use **iskeyword()** to find keyword<br>\n",
    "  \n",
    " \n",
    "4. \n",
    "<code>s.islower()</code><br>\n",
    "    Determines whether the target string’s alphabetic characters are lowercase.<br>\n",
    " "
   ]
  },
  {
   "cell_type": "code",
   "execution_count": 26,
   "metadata": {},
   "outputs": [
    {
     "name": "stdout",
     "output_type": "stream",
     "text": [
      "False\n",
      "True\n",
      "False\n",
      "True\n",
      "False\n"
     ]
    }
   ],
   "source": [
    "print('nishant$'.isaub[,start[,end]lnum())\n",
    "print('nishant'.isalnum())\n",
    "print('123'.isalpha())\n",
    "print('1243'.isdigit())\n",
    "print('#var'.isidentifier())"
   ]
  },
  {
   "cell_type": "markdown",
   "metadata": {},
   "source": [
    "## String Formatting\n",
    "Methods in this group modify or enhance the format of a string.<br>\n",
    "**NOTE:** other than *s.isprintable()* all the methods return false, provided empty strings.\n",
    "\n",
    "1. \n",
    "<code>s.center(width,fill)</code><br>\n",
    "    Centers a string in a field.<br>\n",
    "\n",
    "\n",
    "2. \n",
    "<code>s.expandtabs(tabsize=8)</code><br>\n",
    "    Expands tabs in a string.<br>\n",
    " \n",
    " \n",
    "and many more like.\n",
    "<code> s.ljust(width,fill) , s.lstrip(chars) , s.replace(old,new,count) , s.rjust() , s.rjust() , s.strip() , s.zfill(count)\n",
    "</code>"
   ]
  },
  {
   "cell_type": "code",
   "execution_count": 32,
   "metadata": {},
   "outputs": [
    {
     "name": "stdout",
     "output_type": "stream",
     "text": [
      "-------------Nishant Pandey-------------\n",
      "Nishant         Pandey\n"
     ]
    }
   ],
   "source": [
    "print('Nishant Pandey'.center(40,'-'))\n",
    "print('Nishant\\t\\tPandey'.expandtabs())"
   ]
  },
  {
   "cell_type": "markdown",
   "metadata": {},
   "source": [
    "## Converting Between Strings and Lists\n",
    "Methods in this group convert between a string and some composite data type by either pasting objects together to make a string, or by breaking a string up into pieces.\n",
    "\n",
    "\n",
    "1. \n",
    "<code>s.join(iteratbles)</code><br>\n",
    "    Concatenates strings from an iterable.<br>\n",
    "\n",
    "\n",
    "2. \n",
    "<code>s.partition(sep)</code><br>\n",
    "    Divides a string based on a separator.<br>\n",
    " "
   ]
  },
  {
   "cell_type": "code",
   "execution_count": 36,
   "metadata": {},
   "outputs": [
    {
     "name": "stdout",
     "output_type": "stream",
     "text": [
      "Nishant, Pandey\n",
      "N:a:s:a\n",
      "('What', ' ', 'is your name?')\n"
     ]
    }
   ],
   "source": [
    "print(', '.join(['Nishant','Pandey']))\n",
    "print(':'.join('Nasa'))\n",
    "print('What is your name?'.partition(' '))"
   ]
  },
  {
   "cell_type": "code",
   "execution_count": null,
   "metadata": {},
   "outputs": [],
   "source": []
  }
 ],
 "metadata": {
  "kernelspec": {
   "display_name": "Python 3",
   "language": "python",
   "name": "python3"
  },
  "language_info": {
   "codemirror_mode": {
    "name": "ipython",
    "version": 3
   },
   "file_extension": ".py",
   "mimetype": "text/x-python",
   "name": "python",
   "nbconvert_exporter": "python",
   "pygments_lexer": "ipython3",
   "version": "3.8.5"
  }
 },
 "nbformat": 4,
 "nbformat_minor": 4
}
