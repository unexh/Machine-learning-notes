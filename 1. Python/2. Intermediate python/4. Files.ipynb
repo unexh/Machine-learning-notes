{
 "cells": [
  {
   "cell_type": "markdown",
   "metadata": {},
   "source": [
    "## Files \n",
    "What is a file object ?\\\n",
    "“an object exposing a file-oriented API (with methods such as read() or write()) to an underlying resource.”\\\n",
    "__There are three different categories of file objects__:\n",
    "* Text files (default return type : <class '_io.TextIOWrapper'>)\n",
    "* Buffered binary files, used for r/w in binary files (default return type : <class '_io.BufferedWriter'>, mode = 'rb/wb')\n",
    "* Raw binary files,used for “generally used as a low-level building-block for binary and text streams.\", ( default return type: <class '_io.FileIO'>, mode -'rb' , buffering = 0)<br>\n",
    "\n",
    "__Note__ : while handling files beware of the follwing points:\n",
    "* encoding (Unicode(11,14,112) vs Ascii (128)), as acessing more than 128 val in ascii would lead to failure\n",
    "* end of file represtation compatibility between different OS.\\\n",
    "    * like windows use CR and LF while UNIX use CR/LF or LF\\\n",
    "* proper closing of file\n",
    "    * try-finally block\n",
    "    * with statement (more pythonic way)"
   ]
  },
  {
   "cell_type": "markdown",
   "metadata": {},
   "source": [
    "### opening of file\n",
    "use built in func - __open (path_string,mode_char)__ : takes string path of the file (must) and mode char (may) and return file object\\\n",
    "you must responsible close the file too\\\n",
    "different mods:\n",
    "   * 'r' Open a file for reading. (default)\n",
    "\n",
    "   * 'w' Open a file for writing. Creates a new file if it does not exist or truncates the file if it exists.\n",
    "\n",
    "   * 'x' Open a file for exclusive creation. If the file already exists, the operation fails.\n",
    "\n",
    "   * 'a' Open for appending at the end of the file without truncating it. Creates a new file if it does not exist.\n",
    "\n",
    "   * 't' Open in text mode. (default)\n",
    "\n",
    "   * 'b' Open in binary mode.\n",
    "\n",
    "   * '+' Open a file for updating (reading and writing)"
   ]
  },
  {
   "cell_type": "code",
   "execution_count": 13,
   "metadata": {},
   "outputs": [
    {
     "name": "stdout",
     "output_type": "stream",
     "text": [
      "1\n",
      "2\n",
      "3\n",
      "4\n"
     ]
    }
   ],
   "source": [
    "import os\n",
    "reader = open(\"file.txt\",'a')\n",
    "# print(os.listdir())\n",
    "try:\n",
    "    lis =[1,2,3,4]\n",
    "    for x in lis:\n",
    "        print(x)\n",
    "        #reader.\n",
    "finally:\n",
    "    reader.close()#close regardless failure or not"
   ]
  },
  {
   "cell_type": "code",
   "execution_count": 16,
   "metadata": {},
   "outputs": [
    {
     "name": "stdout",
     "output_type": "stream",
     "text": [
      "['2. Namespaces in python.ipynb', '3. Python modules and packages.ipynb', '.ipynb_checkpoints', 'file.txt', '1. Functions and lambda func.ipynb', 'file_with.txt', '4. Files.ipynb', '3. Files']\n",
      "1\n",
      "2\n",
      "3\n",
      "4\n"
     ]
    }
   ],
   "source": [
    "#more pythonic way to open a file : use with \n",
    "with open('file_with.txt','a') as reader:\n",
    "    lis =[1,2,3,4]\n",
    "    for x in lis:\n",
    "        print(x)\n",
    "# print(os.listdir())"
   ]
  },
  {
   "cell_type": "markdown",
   "metadata": {},
   "source": [
    "## Reading and writing to an open File"
   ]
  },
  {
   "cell_type": "markdown",
   "metadata": {},
   "source": [
    "### Reading from an open file\n",
    "Following methods applies to a file object :\n",
    "1. read(size=-1)\n",
    "    * reads size byte char from file and returns it, if nothing is passed whole file is read\n",
    "2. readline(size=-1)\n",
    "    * reads size byte char from each line of file and returns it, if nothing is passed whole file is read\n",
    "3. readlines(size=-1)\n",
    "    * reads the remaining line by line and returns them as a list"
   ]
  },
  {
   "cell_type": "code",
   "execution_count": 22,
   "metadata": {},
   "outputs": [
    {
     "name": "stdout",
     "output_type": "stream",
     "text": [
      "Pug\\r\\n\n",
      "Jack Russell Terrier\\r\\n\n",
      "English Springer Spaniel\\r\\n\n",
      "German Shepherd\\r\\n\n",
      "Staffordshire Bull Terrier\\r\\n\n",
      "Cavalier King Charles Spaniel\\r\\n\n",
      "Golden Retriever\\r\\n\n",
      "West Highland White Terrier\\r\\n\n",
      "Boxer\\r\\n\n",
      "Border Terrier\\r\\n\n",
      "\n"
     ]
    }
   ],
   "source": [
    "## read whole file \n",
    "with open('dog_breads.txt') as file:\n",
    "    print(file.read())"
   ]
  },
  {
   "cell_type": "code",
   "execution_count": 26,
   "metadata": {},
   "outputs": [
    {
     "name": "stdout",
     "output_type": "stream",
     "text": [
      "Pug\\r\n",
      "\\n\n",
      "\n",
      "Jack \n"
     ]
    }
   ],
   "source": [
    "## read 5 char from every line\n",
    "with open('dog_breads.txt') as file:\n",
    "    print(file.readline(5))\n",
    "    print(file.readline(5))\n",
    "    print(file.readline(5))"
   ]
  },
  {
   "cell_type": "code",
   "execution_count": 30,
   "metadata": {},
   "outputs": [
    {
     "name": "stdout",
     "output_type": "stream",
     "text": [
      "['Pug\\\\r\\\\n\\n', 'Jack Russell Terrier\\\\r\\\\n\\n', 'English Springer Spaniel\\\\r\\\\n\\n', 'German Shepherd\\\\r\\\\n\\n', 'Staffordshire Bull Terrier\\\\r\\\\n\\n', 'Cavalier King Charles Spaniel\\\\r\\\\n\\n', 'Golden Retriever\\\\r\\\\n\\n', 'West Highland White Terrier\\\\r\\\\n\\n', 'Boxer\\\\r\\\\n\\n', 'Border Terrier\\\\r\\\\n\\n']\n",
      "['Pug\\\\r\\\\n\\n', 'Jack Russell Terrier\\\\r\\\\n\\n', 'English Springer Spaniel\\\\r\\\\n\\n', 'German Shepherd\\\\r\\\\n\\n', 'Staffordshire Bull Terrier\\\\r\\\\n\\n', 'Cavalier King Charles Spaniel\\\\r\\\\n\\n', 'Golden Retriever\\\\r\\\\n\\n', 'West Highland White Terrier\\\\r\\\\n\\n', 'Boxer\\\\r\\\\n\\n', 'Border Terrier\\\\r\\\\n\\n']\n"
     ]
    }
   ],
   "source": [
    "## reading file content in a list\n",
    "### both methods put same result\n",
    "\n",
    "with open('dog_breads.txt') as file:\n",
    "    print(list(file))\n",
    "    \n",
    "with open('dog_breads.txt') as file:\n",
    "    print(file.readlines())"
   ]
  },
  {
   "cell_type": "code",
   "execution_count": 35,
   "metadata": {},
   "outputs": [
    {
     "name": "stdout",
     "output_type": "stream",
     "text": [
      "Pug\\r\\n\n",
      "Jack Russell Terrier\\r\\n\n",
      "English Springer Spaniel\\r\\n\n",
      "German Shepherd\\r\\n\n",
      "Staffordshire Bull Terrier\\r\\n\n",
      "Cavalier King Charles Spaniel\\r\\n\n",
      "Golden Retriever\\r\\n\n",
      "West Highland White Terrier\\r\\n\n",
      "Boxer\\r\\n\n",
      "Border Terrier\\r\\n\n",
      "---------------------------------------------\n",
      "Pug\\r\\n\n",
      "Jack Russell Terrier\\r\\n\n",
      "English Springer Spaniel\\r\\n\n",
      "German Shepherd\\r\\n\n",
      "Staffordshire Bull Terrier\\r\\n\n",
      "Cavalier King Charles Spaniel\\r\\n\n",
      "Golden Retriever\\r\\n\n",
      "West Highland White Terrier\\r\\n\n",
      "Boxer\\r\\n\n",
      "Border Terrier\\r\\n\n",
      "---------------------------------------------\n",
      "Pug\\r\\n\n",
      "Jack Russell Terrier\\r\\n\n",
      "English Springer Spaniel\\r\\n\n",
      "German Shepherd\\r\\n\n",
      "Staffordshire Bull Terrier\\r\\n\n",
      "Cavalier King Charles Spaniel\\r\\n\n",
      "Golden Retriever\\r\\n\n",
      "West Highland White Terrier\\r\\n\n",
      "Boxer\\r\\n\n",
      "Border Terrier\\r\\n\n"
     ]
    }
   ],
   "source": [
    "## reading file content line by line\n",
    "\n",
    "#method 1\n",
    "with open('dog_breads.txt') as file:\n",
    "    readobj = file.readline()\n",
    "    while(readobj !=''):\n",
    "        print(readobj,end='')\n",
    "        3\n",
    "        readobj = file.readline()\n",
    "        \n",
    "print('---------------------------------------------')\n",
    "\n",
    "#method 2\n",
    "with open('dog_breads.txt') as file:\n",
    "    for line in file.readlines():\n",
    "        print(line,end='')\n",
    "        \n",
    "print('---------------------------------------------')\n",
    "\n",
    "#method 3, most pythonic of all\n",
    "with open('dog_breads.txt') as file:\n",
    "    for line in file:\n",
    "        print(line,end='')"
   ]
  },
  {
   "cell_type": "markdown",
   "metadata": {},
   "source": [
    "## Writing to files in python\n",
    "File objects have multiple methods that are useful for writing to a file:\n",
    "1. write(string)\n",
    "    * writes string to file\n",
    "2. writelines(seq)\n",
    "    * writes sequence seq to the file, ending is specified by user"
   ]
  },
  {
   "cell_type": "code",
   "execution_count": 42,
   "metadata": {},
   "outputs": [
    {
     "name": "stdout",
     "output_type": "stream",
     "text": [
      "Pug\\r\\n\n",
      "\n",
      "Jack Russell Terrier\\r\\n\n",
      "\n",
      "English Springer Spaniel\\r\\n\n",
      "\n",
      "German Shepherd\\r\\n\n",
      "\n",
      "Staffordshire Bull Terrier\\r\\n\n",
      "\n",
      "Cavalier King Charles Spaniel\\r\\n\n",
      "\n",
      "Golden Retriever\\r\\n\n",
      "\n",
      "West Highland White Terrier\\r\\n\n",
      "\n",
      "Boxer\\r\\n\n",
      "\n",
      "Border Terrier\\r\\n\n",
      "\n",
      "\n",
      "\n",
      "n\\r\\guPPug\\r\\n\n",
      "\n"
     ]
    }
   ],
   "source": [
    "## lets reverse the first line in dog_breads.txt\n",
    "file_name = 'dog_breads.txt'\n",
    "first_line =\"\"\n",
    "with open(file_name,'r') as file:\n",
    "    first_line = file.readline()\n",
    "\n",
    "with open(file_name,'a') as file:\n",
    "    for char in first_line:\n",
    "        file.write(char)\n",
    "\n",
    "with open(file_name,'r') as file:\n",
    "    for line in file.readlines():\n",
    "        print(line)"
   ]
  },
  {
   "cell_type": "markdown",
   "metadata": {},
   "source": [
    "## File pointers in python\n",
    "* file_obj.seek(byte) : to go to byte pointer in file\n",
    "* file_obj.tell() : return byte counter in file"
   ]
  },
  {
   "cell_type": "code",
   "execution_count": 45,
   "metadata": {},
   "outputs": [
    {
     "name": "stdout",
     "output_type": "stream",
     "text": [
      "linux\n"
     ]
    }
   ],
   "source": []
  },
  {
   "cell_type": "code",
   "execution_count": null,
   "metadata": {},
   "outputs": [],
   "source": []
  }
 ],
 "metadata": {
  "kernelspec": {
   "display_name": "Python 3",
   "language": "python",
   "name": "python3"
  },
  "language_info": {
   "codemirror_mode": {
    "name": "ipython",
    "version": 3
   },
   "file_extension": ".py",
   "mimetype": "text/x-python",
   "name": "python",
   "nbconvert_exporter": "python",
   "pygments_lexer": "ipython3",
   "version": "3.8.5"
  }
 },
 "nbformat": 4,
 "nbformat_minor": 4
}
