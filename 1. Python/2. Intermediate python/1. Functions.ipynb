{
 "cells": [
  {
   "cell_type": "markdown",
   "metadata": {},
   "source": [
    "## Function\n",
    "syntax :<code> def {function_name>}([{parameters}]):\n",
    "                    {statement(s)}          </code>\n",
    "                    \n",
    "NOTE: func parenthesis are must\n",
    "python shares value by \"Pass-by-assignment\" (hybrid of pass by reference and value)\\\n",
    "\n",
    "Argument Passing Summary<br>\n",
    "Argument passing in Python can be summarized as follows. Passing an immutable object, like an int, str, tuple, or frozenset, to a Python function acts like pass-by-value. The function can’t modify the object in the calling environment.<br>\n",
    "\n",
    "Passing a mutable object such as a list, dict, or set acts somewhat—but not exactly—like pass-by-reference. The function can’t reassign the object wholesale, but it can change items in place within the object, and these changes will be reflected in the calling environment."
   ]
  },
  {
   "cell_type": "code",
   "execution_count": 1,
   "metadata": {},
   "outputs": [],
   "source": [
    "#defining stub in python\n",
    "def func():\n",
    "    pass\n",
    "func()"
   ]
  },
  {
   "cell_type": "code",
   "execution_count": 9,
   "metadata": {},
   "outputs": [
    {
     "name": "stdout",
     "output_type": "stream",
     "text": [
      "3 Banana costs $6.12\n",
      "1 Apple costs $1.20\n",
      "0 Gauva costs $1.00\n"
     ]
    }
   ],
   "source": [
    "#arguments passing in python func, must match in count and name\n",
    "# 1. positional arguments (required arguments)\n",
    "# 2. keyword arguments (bit more fexiable in ordering)\n",
    "# 3. default arguments (optional arguments)\n",
    "#positional example\n",
    "\n",
    "def price(qty,item,price=1):#formal parameters\n",
    "    print(f\"{qty} {item} costs ${price:.2f}\")\n",
    "    \n",
    "price(3,\"Banana\",6.123)#actual parameters\n",
    "\n",
    "#keyword argument\n",
    "price(qty=1,item=\"Apple\",price=1.2)\n",
    "#order doesn't matter\n",
    "#if using both, no positional arg can come to right of keyword\n",
    "#price(2,item=\"Orange\",3) X\n",
    "\n",
    "#default arguments\n",
    "price(0,\"Gauva\")#price is a default argument"
   ]
  },
  {
   "cell_type": "code",
   "execution_count": 4,
   "metadata": {},
   "outputs": [
    {
     "name": "stdout",
     "output_type": "stream",
     "text": [
      "[1, 2, 3, -1]\n"
     ]
    }
   ],
   "source": [
    "#accessing func return values\n",
    "\n",
    "def func(ls):\n",
    "    ls.append(-1)\n",
    "    return ls\n",
    "\n",
    "ls = [1,2,3]\n",
    "print(func(ls)[:])"
   ]
  },
  {
   "cell_type": "code",
   "execution_count": 8,
   "metadata": {},
   "outputs": [
    {
     "name": "stdout",
     "output_type": "stream",
     "text": [
      "<class 'tuple'>\n",
      "('Nishant', 'Pandey', 'Sushant')\n",
      "Nishant\n"
     ]
    }
   ],
   "source": [
    "#returning multiple values as a tuple in python\n",
    "def func():\n",
    "    return 'Nishant','Pandey','Sushant'\n",
    "\n",
    "print(type(func()))\n",
    "print(func())\n",
    "\n",
    "name1 , name2 , name3 = func()\n",
    "print(name1)"
   ]
  },
  {
   "cell_type": "code",
   "execution_count": 10,
   "metadata": {},
   "outputs": [
    {
     "name": "stdout",
     "output_type": "stream",
     "text": [
      "a stub function\n",
      "None\n"
     ]
    }
   ],
   "source": [
    "#returning nothing, returns none\n",
    "\n",
    "def func():\n",
    "    print(\"a stub function\")\n",
    "\n",
    "print(func())"
   ]
  },
  {
   "cell_type": "code",
   "execution_count": 21,
   "metadata": {},
   "outputs": [
    {
     "name": "stdout",
     "output_type": "stream",
     "text": [
      "1 2 3 4\n",
      "(1, 2, 3, 4)\n",
      "<class 'tuple'>\n",
      "2.5\n",
      "10\n"
     ]
    }
   ],
   "source": [
    "#variable length argument\n",
    "\n",
    "#packing and unpacking of iterators in python, is done by * opertator\n",
    "\n",
    "tup = (1,2,3,4)\n",
    "print(*tup)#unpacked\n",
    "print(tup)#packed by default\n",
    "\n",
    "def func(*args):#pack the args to tuple\n",
    "    print(type(args))\n",
    "    return sum(args)/len(args)\n",
    "\n",
    "print(func(1,2,3,4))#sent int, that are then packed to tuples \n",
    "\n",
    "\n",
    "#similar stuff can be done with lists too\n",
    "lis = [1,2,3,4]\n",
    "\n",
    "def func(one,two,three,four):#requires argument : int\n",
    "    print(one+two+three+four)\n",
    "\n",
    "func(*lis)#unpack them (the list). meaning list should be unpacked and passed as an individual values"
   ]
  },
  {
   "cell_type": "code",
   "execution_count": 29,
   "metadata": {},
   "outputs": [
    {
     "name": "stdout",
     "output_type": "stream",
     "text": [
      "1 2 3\n",
      "a->1\n",
      "b->3\n",
      "c->3\n"
     ]
    }
   ],
   "source": [
    "#hence multliple values can be passed to a function using this tuple packing \n",
    "\n",
    "#passsing key worded arguments in python\n",
    "#this can be done using dictinary packing and unpacking\n",
    "\n",
    "def func(a,b,c):\n",
    "    print(a,b,c)\n",
    "\n",
    "dic = {\"a\":\"1\",\"b\":\"2\",\"c\":\"3\"};\n",
    "func(**dic)#unpacks dictinary\n",
    "\n",
    "def func2(**kwargs):#packs arguments to a dictionary\n",
    "    for k,v in kwargs.items():\n",
    "        print(f'{k}->{v}')\n",
    "\n",
    "func2(a=\"1\",b=\"3\",c=\"3\")        "
   ]
  },
  {
   "cell_type": "code",
   "execution_count": 30,
   "metadata": {},
   "outputs": [
    {
     "name": "stdout",
     "output_type": "stream",
     "text": [
      "2.0\n",
      "Returns average of N Numbers in float form\n"
     ]
    }
   ],
   "source": [
    "#docstrings in python: used as documentation of python function\n",
    "# can be accessed using attribute name doc with dunders(double underscore) i.e. <funcname>.__doc__\n",
    "\n",
    "def avg(*args):\n",
    "    \"\"\"Returns average of N Numbers in float form\"\"\"\n",
    "    return sum(args)/len(args)\n",
    "print(avg(1,2,3))\n",
    "print(avg.__doc__)"
   ]
  },
  {
   "cell_type": "code",
   "execution_count": null,
   "metadata": {},
   "outputs": [],
   "source": []
  }
 ],
 "metadata": {
  "kernelspec": {
   "display_name": "Python 3",
   "language": "python",
   "name": "python3"
  },
  "language_info": {
   "codemirror_mode": {
    "name": "ipython",
    "version": 3
   },
   "file_extension": ".py",
   "mimetype": "text/x-python",
   "name": "python",
   "nbconvert_exporter": "python",
   "pygments_lexer": "ipython3",
   "version": "3.8.5"
  }
 },
 "nbformat": 4,
 "nbformat_minor": 4
}
