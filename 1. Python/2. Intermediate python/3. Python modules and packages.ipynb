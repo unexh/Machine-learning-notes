{
 "cells": [
  {
   "cell_type": "code",
   "execution_count": null,
   "metadata": {
    "collapsed": true
   },
   "outputs": [],
   "source": []
  },
  {
   "cell_type": "markdown",
   "metadata": {},
   "source": [
    "## Modular programming in general\n",
    "Modular programming refers to the process of breaking a large, unwieldy programming task into separate, smaller, more manageable subtasks or modules. hence these smaller/individuals can be used to build a larger app\\\n",
    "\\\n",
    "Pros of modular programming:\\\n",
    "__Simplicity__ : easier to implement smaller modules rather than whole app at once.\\\n",
    "__Maintainability__ : easier to resolve bugs in production, as we know where might the bug reside.\\\n",
    "__Reusability__ : allows modules to be imported hence, can be reused\\\n",
    "__Scoping__ : each module have its own namespace, hence less chance of name collisions."
   ]
  },
  {
   "cell_type": "markdown",
   "metadata": {},
   "source": [
    "## Modules in Python\n",
    "these can be:\n",
    "1. python modules\n",
    "2. C modules files, loaded dynamically at run time (re module)\n",
    "3. a builtin module, integrated in interpreter itself.\n",
    "\n",
    "__import any module__ : just write python code, save it to name.py and import it to code, note: path to this name.py must be present in sys.path so that it is identifiable by python."
   ]
  },
  {
   "cell_type": "code",
   "execution_count": 11,
   "metadata": {},
   "outputs": [
    {
     "name": "stdout",
     "output_type": "stream",
     "text": [
      "['/home/unexh/Documents/Machine-learning-notes/1. Python/2. Intermediate python', '/home/unexh/anaconda3/lib/python38.zip', '/home/unexh/anaconda3/lib/python3.8', '/home/unexh/anaconda3/lib/python3.8/lib-dynload', '', '/home/unexh/anaconda3/lib/python3.8/site-packages', '/home/unexh/anaconda3/lib/python3.8/site-packages/IPython/extensions', '/home/unexh/.ipython', '/home/unexh/Documents/Machine-learning-notes/1. Python/2. Intermediate python/3. Files/']\n"
     ]
    }
   ],
   "source": [
    "import sys#sys modules to access python path\n",
    "print(sys.path)#print python indentifiable path\n",
    "if(sys.path[-1]!=sys.path[0]+r'/3. Files/'):#if doe\n",
    "    sys.path.append(sys.path[0]+r'/3. Files/')#added new directory to sys path\n",
    "    print(sys.path)#print path"
   ]
  },
  {
   "cell_type": "markdown",
   "metadata": {},
   "source": [
    "### Accessing references in imported modules\n",
    "once modules imported in python it (only module name, not the whole global namespace) is added namespace of current program, and all the references defined in it can be accessed using '.' Operator"
   ]
  },
  {
   "cell_type": "code",
   "execution_count": 13,
   "metadata": {},
   "outputs": [
    {
     "data": {
      "text/plain": [
       "'If Comrade Napoleon says it, it must be right.'"
      ]
     },
     "execution_count": 13,
     "metadata": {},
     "output_type": "execute_result"
    }
   ],
   "source": [
    "import mod as m#present in 3. Files\n",
    "m.s"
   ]
  },
  {
   "cell_type": "markdown",
   "metadata": {},
   "source": [
    "specific object in a module can be imported as"
   ]
  },
  {
   "cell_type": "code",
   "execution_count": 19,
   "metadata": {},
   "outputs": [
    {
     "name": "stdout",
     "output_type": "stream",
     "text": [
      "12\n",
      "arg = 2\n"
     ]
    }
   ],
   "source": [
    "#from mod import foo\n",
    "s = 12\n",
    "print(s)\n",
    "from mod import foo,s\n",
    "foo(2)"
   ]
  },
  {
   "cell_type": "markdown",
   "metadata": {},
   "source": [
    "any object if overwritten if namespace collision occur"
   ]
  },
  {
   "cell_type": "code",
   "execution_count": 20,
   "metadata": {},
   "outputs": [
    {
     "name": "stdout",
     "output_type": "stream",
     "text": [
      "If Comrade Napoleon says it, it must be right.\n"
     ]
    }
   ],
   "source": [
    "#see s =12 above\n",
    "print(s)"
   ]
  },
  {
   "cell_type": "markdown",
   "metadata": {},
   "source": [
    "If you want to import the whole namespace, except every attribute that starts with dunders\\\n",
    "<code> from mod import * </code><br>\n",
    "if you want you can give it a ALIAS too\\\n",
    "<code> import mod as md </code>\\\n",
    "<code> from mod import s as string,v as vector </code>\\\n",
    "\\\n",
    "you can even import modules in functions too, just that we can't import * from it"
   ]
  },
  {
   "cell_type": "code",
   "execution_count": 24,
   "metadata": {},
   "outputs": [
    {
     "name": "stdout",
     "output_type": "stream",
     "text": [
      "If Comrade Napoleon says it, it must be right.\n"
     ]
    }
   ],
   "source": [
    "def func():\n",
    "    #from mod import *#wrong\n",
    "    import mod as md\n",
    "    print(md.s)\n",
    "func()"
   ]
  },
  {
   "cell_type": "markdown",
   "metadata": {},
   "source": [
    "The __dir()__ function, returns list of all the content of names defined in local namespace or local symbol table"
   ]
  },
  {
   "cell_type": "code",
   "execution_count": 27,
   "metadata": {},
   "outputs": [
    {
     "name": "stdout",
     "output_type": "stream",
     "text": [
      "If Comrade Napoleon says it, it must be right.\n"
     ]
    },
    {
     "data": {
      "text/plain": [
       "['__bool__',\n",
       " '__class__',\n",
       " '__delattr__',\n",
       " '__dir__',\n",
       " '__doc__',\n",
       " '__eq__',\n",
       " '__format__',\n",
       " '__ge__',\n",
       " '__getattribute__',\n",
       " '__gt__',\n",
       " '__hash__',\n",
       " '__init__',\n",
       " '__init_subclass__',\n",
       " '__le__',\n",
       " '__lt__',\n",
       " '__ne__',\n",
       " '__new__',\n",
       " '__reduce__',\n",
       " '__reduce_ex__',\n",
       " '__repr__',\n",
       " '__setattr__',\n",
       " '__sizeof__',\n",
       " '__str__',\n",
       " '__subclasshook__']"
      ]
     },
     "execution_count": 27,
     "metadata": {},
     "output_type": "execute_result"
    }
   ],
   "source": [
    "#dir(func())\n",
    "dir(func())"
   ]
  },
  {
   "cell_type": "markdown",
   "metadata": {},
   "source": [
    "if you want to execute some code only when its script is executed directly, use\\\n",
    "<code>\n",
    "    if __name__  == '__main__'\n",
    "        #do this thing, like priting and stuff\n",
    "        #mainly for unit testing\n",
    " \n",
    "</code>"
   ]
  },
  {
   "cell_type": "markdown",
   "metadata": {},
   "source": [
    "A import statement is only executed once hence, others will be ignored, you may want to reload the library to effects and chnages you might have done\\\n",
    "<code>\n",
    "    import importlib\n",
    "    importlib.reload(module_name)\n",
    "</code>"
   ]
  },
  {
   "cell_type": "markdown",
   "metadata": {},
   "source": [
    "## Python packages\n",
    "__Packages__ allow for a hierarchical structuring of the module namespace using __dot notation__.\\\n",
    "In the same way that __modules__ help __avoid collisions between global variable names__, packages help avoid collisions between module names."
   ]
  },
  {
   "cell_type": "code",
   "execution_count": 1,
   "metadata": {},
   "outputs": [],
   "source": [
    "#if there is a structure\n",
    "## -> pkg\n",
    "###   ->__init__.py (not neccessary, but useful to initialize package level data / or importing some modules)\n",
    "###   ->mod1.py\n",
    "###   ->mod2.py\n",
    "#and pkg is in identified path py python you can use,\n",
    "#from pkg import mod1,mod2\n",
    "#use mod1/mod2\n",
    "\n",
    "#import pkg, isn't usefull at all, try pkg.mod1\n",
    "\n",
    "#from pkg import *, won't work at all, unless __all__ list is initialized with the name of files that must be\n",
    "# included whenever '*' is encountered\n",
    "#in pkg/__init.py\n",
    "#__all__ = ['mod1.py','mod2.py','mod3.py']\n",
    "#import pkg, will include mod1,mod2,mod3"
   ]
  },
  {
   "cell_type": "code",
   "execution_count": 2,
   "metadata": {},
   "outputs": [
    {
     "name": "stdout",
     "output_type": "stream",
     "text": [
      "['/home/unexh/Documents/Machine-learning-notes/1. Python/2. Intermediate python', '/home/unexh/anaconda3/lib/python38.zip', '/home/unexh/anaconda3/lib/python3.8', '/home/unexh/anaconda3/lib/python3.8/lib-dynload', '', '/home/unexh/anaconda3/lib/python3.8/site-packages', '/home/unexh/anaconda3/lib/python3.8/site-packages/IPython/extensions', '/home/unexh/.ipython', '/home/unexh/Documents/Machine-learning-notes/1. Python/2. Intermediate python/3. Files']\n"
     ]
    }
   ],
   "source": [
    "import sys\n",
    "print(sys.path)\n",
    "loc = r'/3. Files'\n",
    "sys.path.append(sys.path[0]+loc)"
   ]
  },
  {
   "cell_type": "code",
   "execution_count": 5,
   "metadata": {},
   "outputs": [
    {
     "data": {
      "text/plain": [
       "1"
      ]
     },
     "execution_count": 5,
     "metadata": {},
     "output_type": "execute_result"
    }
   ],
   "source": [
    "import pkg#not pkg is initialized\n",
    "pkg.mod1.var#doesn't add whole pkg to symbol table"
   ]
  },
  {
   "cell_type": "code",
   "execution_count": 4,
   "metadata": {},
   "outputs": [
    {
     "data": {
      "text/plain": [
       "1"
      ]
     },
     "execution_count": 4,
     "metadata": {},
     "output_type": "execute_result"
    }
   ],
   "source": [
    "import pkg.mod1#works fine\n",
    "pkg.mod1.var"
   ]
  },
  {
   "cell_type": "code",
   "execution_count": 6,
   "metadata": {},
   "outputs": [
    {
     "ename": "NameError",
     "evalue": "name 'mod2' is not defined",
     "output_type": "error",
     "traceback": [
      "\u001b[0;31m---------------------------------------------------------------------------\u001b[0m",
      "\u001b[0;31mNameError\u001b[0m                                 Traceback (most recent call last)",
      "\u001b[0;32m<ipython-input-6-b43febac35e5>\u001b[0m in \u001b[0;36m<module>\u001b[0;34m\u001b[0m\n\u001b[1;32m      1\u001b[0m \u001b[0;32mfrom\u001b[0m \u001b[0mpkg\u001b[0m \u001b[0;32mimport\u001b[0m \u001b[0;34m*\u001b[0m\u001b[0;34m\u001b[0m\u001b[0;34m\u001b[0m\u001b[0m\n\u001b[0;32m----> 2\u001b[0;31m \u001b[0mprint\u001b[0m\u001b[0;34m(\u001b[0m\u001b[0mmod2\u001b[0m\u001b[0;34m.\u001b[0m\u001b[0mvar\u001b[0m\u001b[0;34m)\u001b[0m\u001b[0;34m\u001b[0m\u001b[0;34m\u001b[0m\u001b[0m\n\u001b[0m\u001b[1;32m      3\u001b[0m \u001b[0mprint\u001b[0m\u001b[0;34m(\u001b[0m\u001b[0mmod1\u001b[0m\u001b[0;34m.\u001b[0m\u001b[0mvar\u001b[0m\u001b[0;34m)\u001b[0m\u001b[0;34m\u001b[0m\u001b[0;34m\u001b[0m\u001b[0m\n",
      "\u001b[0;31mNameError\u001b[0m: name 'mod2' is not defined"
     ]
    }
   ],
   "source": [
    "from pkg import *\n",
    "print(mod2.var)#won't import\n",
    "print(mod1.var)"
   ]
  },
  {
   "cell_type": "code",
   "execution_count": null,
   "metadata": {},
   "outputs": [],
   "source": []
  }
 ],
 "metadata": {
  "kernelspec": {
   "display_name": "Python 3",
   "language": "python",
   "name": "python3"
  },
  "language_info": {
   "codemirror_mode": {
    "name": "ipython",
    "version": 3
   },
   "file_extension": ".py",
   "mimetype": "text/x-python",
   "name": "python",
   "nbconvert_exporter": "python",
   "pygments_lexer": "ipython3",
   "version": "3.8.5"
  }
 },
 "nbformat": 4,
 "nbformat_minor": 4
}
