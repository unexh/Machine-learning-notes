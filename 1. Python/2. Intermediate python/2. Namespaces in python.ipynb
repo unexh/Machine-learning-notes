{
 "cells": [
  {
   "cell_type": "markdown",
   "metadata": {},
   "source": [
    "## Namespaces in Python\n",
    "Four types of namespaces in python (Legb)\n",
    "1. Local : If you refer to x inside a function, then the interpreter first searches for it in the innermost scope that’s local to that function.\n",
    "2. enclosing : example a reference in a function in function, is said to be enclosed in outter function.\n",
    "3. global : all the references present in main level program and all the names included with IMPORT statement, remains relavent till main executes\n",
    "4. builtin : contains all built-in objects name, these are present all time, while interpreter is active\n",
    "\n",
    "Interpreter searches references in L->E->G->B order, if doesn't exists in all three, we get nameerror\\\n",
    "python namespace is basically a python dictionary\\\n",
    "only difference between local and global namespaces is the global return orginal reference of dict, whereas local returns a copy\\\n",
    "__globals()__ : returs a dict of all global references with objects, we can change global reference values using this too, globals()[x]=1 is an exmple\\\n",
    "__global__: keyword is used to make/access a var globally\\\n",
    "__nonlocal__ : is used to access nearest nonlocal var outside the scope"
   ]
  },
  {
   "cell_type": "code",
   "execution_count": 6,
   "metadata": {},
   "outputs": [
    {
     "name": "stdout",
     "output_type": "stream",
     "text": [
      "153\n",
      "['ArithmeticError', 'AssertionError', 'AttributeError', 'BaseException', 'BlockingIOError', 'BrokenPipeError', 'BufferError', 'BytesWarning', 'ChildProcessError', 'ConnectionAbortedError', 'ConnectionError', 'ConnectionRefusedError', 'ConnectionResetError', 'DeprecationWarning', 'EOFError', 'Ellipsis', 'EnvironmentError', 'Exception', 'False', 'FileExistsError', 'FileNotFoundError', 'FloatingPointError', 'FutureWarning', 'GeneratorExit', 'IOError', 'ImportError', 'ImportWarning', 'IndentationError', 'IndexError', 'InterruptedError', 'IsADirectoryError', 'KeyError', 'KeyboardInterrupt', 'LookupError', 'MemoryError', 'ModuleNotFoundError', 'NameError', 'None', 'NotADirectoryError', 'NotImplemented', 'NotImplementedError', 'OSError', 'OverflowError', 'PendingDeprecationWarning', 'PermissionError', 'ProcessLookupError', 'RecursionError', 'ReferenceError', 'ResourceWarning', 'RuntimeError', 'RuntimeWarning', 'StopAsyncIteration', 'StopIteration', 'SyntaxError', 'SyntaxWarning', 'SystemError', 'SystemExit', 'TabError', 'TimeoutError', 'True', 'TypeError', 'UnboundLocalError', 'UnicodeDecodeError', 'UnicodeEncodeError', 'UnicodeError', 'UnicodeTranslateError', 'UnicodeWarning', 'UserWarning', 'ValueError', 'Warning', 'ZeroDivisionError', '__IPYTHON__', '__build_class__', '__debug__', '__doc__', '__import__', '__loader__', '__name__', '__package__', '__spec__', 'abs', 'all', 'any', 'ascii', 'bin', 'bool', 'breakpoint', 'bytearray', 'bytes', 'callable', 'chr', 'classmethod', 'compile', 'complex', 'copyright', 'credits', 'delattr', 'dict', 'dir', 'display', 'divmod', 'enumerate', 'eval', 'exec', 'filter', 'float', 'format', 'frozenset', 'get_ipython', 'getattr', 'globals', 'hasattr', 'hash', 'help', 'hex', 'id', 'input', 'int', 'isinstance', 'issubclass', 'iter', 'len', 'license', 'list', 'locals', 'map', 'max', 'memoryview', 'min', 'next', 'object', 'oct', 'open', 'ord', 'pow', 'print', 'property', 'range', 'repr', 'reversed', 'round', 'set', 'setattr', 'slice', 'sorted', 'staticmethod', 'str', 'sum', 'super', 'tuple', 'type', 'vars', 'zip']\n"
     ]
    }
   ],
   "source": [
    "#builtin in namespace\n",
    "print(len(dir(__builtins__)))\n",
    "print(dir(__builtins__))"
   ]
  },
  {
   "cell_type": "code",
   "execution_count": 10,
   "metadata": {},
   "outputs": [
    {
     "name": "stdout",
     "output_type": "stream",
     "text": [
      "<class 'dict'>\n",
      "{'__name__': '__main__', '__doc__': 'Automatically created module for IPython interactive environment', '__package__': None, '__loader__': None, '__spec__': None, '__builtin__': <module 'builtins' (built-in)>, '__builtins__': <module 'builtins' (built-in)>, '_ih': ['', '#builtin in namespace\\nprint(dir(__builtin))', '#builtin in namespace\\nprint(dir(builtin))', '#builtin in namespace\\nprint(dir(__builtins__))', '#builtin in namespace\\nprint(len(__builtins__))\\nprint(dir(__builtins__))', '#builtin in namespace\\nprint(dir(__builtins__))', '#builtin in namespace\\nprint(len(dir(__builtins__)))\\nprint(dir(__builtins__))', '#global \\nprint(global())', '#global \\nprint(globals())', '#global \\nprint(type(globals))\\nprint(globals())', '#global \\nprint(type(globals()))\\nprint(globals())'], '_oh': {}, '_dh': ['/home/unexh/Documents/Machine-learning-notes/1. Python/2. Intermediate python'], 'In': ['', '#builtin in namespace\\nprint(dir(__builtin))', '#builtin in namespace\\nprint(dir(builtin))', '#builtin in namespace\\nprint(dir(__builtins__))', '#builtin in namespace\\nprint(len(__builtins__))\\nprint(dir(__builtins__))', '#builtin in namespace\\nprint(dir(__builtins__))', '#builtin in namespace\\nprint(len(dir(__builtins__)))\\nprint(dir(__builtins__))', '#global \\nprint(global())', '#global \\nprint(globals())', '#global \\nprint(type(globals))\\nprint(globals())', '#global \\nprint(type(globals()))\\nprint(globals())'], 'Out': {}, 'get_ipython': <bound method InteractiveShell.get_ipython of <ipykernel.zmqshell.ZMQInteractiveShell object at 0x7fcb0a6a8040>>, 'exit': <IPython.core.autocall.ZMQExitAutocall object at 0x7fcb0a66ae20>, 'quit': <IPython.core.autocall.ZMQExitAutocall object at 0x7fcb0a66ae20>, '_': '', '__': '', '___': '', '_i': '#global \\nprint(type(globals))\\nprint(globals())', '_ii': '#global \\nprint(globals())', '_iii': '#global \\nprint(global())', '_i1': '#builtin in namespace\\nprint(dir(__builtin))', '_i2': '#builtin in namespace\\nprint(dir(builtin))', '_i3': '#builtin in namespace\\nprint(dir(__builtins__))', '_i4': '#builtin in namespace\\nprint(len(__builtins__))\\nprint(dir(__builtins__))', '_i5': '#builtin in namespace\\nprint(dir(__builtins__))', '_i6': '#builtin in namespace\\nprint(len(dir(__builtins__)))\\nprint(dir(__builtins__))', '_i7': '#global \\nprint(global())', '_i8': '#global \\nprint(globals())', '_i9': '#global \\nprint(type(globals))\\nprint(globals())', '_i10': '#global \\nprint(type(globals()))\\nprint(globals())'}\n"
     ]
    }
   ],
   "source": [
    "#global \n",
    "print(type(globals()))\n",
    "print(globals())"
   ]
  },
  {
   "cell_type": "code",
   "execution_count": 14,
   "metadata": {},
   "outputs": [
    {
     "name": "stdout",
     "output_type": "stream",
     "text": [
      "before func :  40\n",
      "inside function :  50\n",
      "before func :  50\n"
     ]
    }
   ],
   "source": [
    "x = 40\n",
    "\n",
    "def func():\n",
    "    global x#accessing global var\n",
    "    x=50\n",
    "    print(\"inside function : \",x)\n",
    "print(\"before func : \",x)\n",
    "func()\n",
    "print(\"before func : \",x)"
   ]
  },
  {
   "cell_type": "code",
   "execution_count": null,
   "metadata": {},
   "outputs": [],
   "source": []
  }
 ],
 "metadata": {
  "kernelspec": {
   "display_name": "Python 3",
   "language": "python",
   "name": "python3"
  },
  "language_info": {
   "codemirror_mode": {
    "name": "ipython",
    "version": 3
   },
   "file_extension": ".py",
   "mimetype": "text/x-python",
   "name": "python",
   "nbconvert_exporter": "python",
   "pygments_lexer": "ipython3",
   "version": "3.8.5"
  }
 },
 "nbformat": 4,
 "nbformat_minor": 4
}
