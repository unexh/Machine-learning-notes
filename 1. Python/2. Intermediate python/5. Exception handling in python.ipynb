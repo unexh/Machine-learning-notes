{
 "cells": [
  {
   "cell_type": "markdown",
   "metadata": {},
   "source": [
    "## Exception handling summary\n",
    "* __raise__ allows you to throw an exception at any time.\n",
    "* __assert__ enables you to verify if a certain condition is met and throw an exception if it isn’t.\n",
    "* In the __try__ clause, all statements are executed until an exception is encountered.\n",
    "* __except__ is used to catch and handle the exception(s) that are encountered in the try clause.\n",
    "* __else__ lets you code sections that should run only when no exceptions are encountered in the try clause.\n",
    "* __finally__ enables you to execute sections of code that should always run, with or without any previously encountered exceptions.\n",
    "\n",
    "Note : Syntax error is different from Exception, Syntax error occurs when parser can't parse the script, Exception occurs when we get error from Syntax error free code\n",
    "\n",
    "<img src=\"https://files.realpython.com/media/try_except_else_finally.a7fac6c36c55.png\" width=500px>"
   ]
  },
  {
   "cell_type": "code",
   "execution_count": 1,
   "metadata": {},
   "outputs": [
    {
     "ename": "SyntaxError",
     "evalue": "unmatched ')' (<ipython-input-1-3eaea97b0ca3>, line 2)",
     "output_type": "error",
     "traceback": [
      "\u001b[0;36m  File \u001b[0;32m\"<ipython-input-1-3eaea97b0ca3>\"\u001b[0;36m, line \u001b[0;32m2\u001b[0m\n\u001b[0;31m    print(\"hello\"))\u001b[0m\n\u001b[0m                  ^\u001b[0m\n\u001b[0;31mSyntaxError\u001b[0m\u001b[0;31m:\u001b[0m unmatched ')'\n"
     ]
    }
   ],
   "source": [
    "# syntax error\n",
    "print(\"hello\"))"
   ]
  },
  {
   "cell_type": "code",
   "execution_count": 2,
   "metadata": {},
   "outputs": [
    {
     "ename": "ZeroDivisionError",
     "evalue": "division by zero",
     "output_type": "error",
     "traceback": [
      "\u001b[0;31m---------------------------------------------------------------------------\u001b[0m",
      "\u001b[0;31mZeroDivisionError\u001b[0m                         Traceback (most recent call last)",
      "\u001b[0;32m<ipython-input-2-77a79587370b>\u001b[0m in \u001b[0;36m<module>\u001b[0;34m\u001b[0m\n\u001b[1;32m      1\u001b[0m \u001b[0;31m#exception\u001b[0m\u001b[0;34m\u001b[0m\u001b[0;34m\u001b[0m\u001b[0;34m\u001b[0m\u001b[0m\n\u001b[0;32m----> 2\u001b[0;31m \u001b[0mprint\u001b[0m\u001b[0;34m(\u001b[0m\u001b[0;36m1\u001b[0m\u001b[0;34m/\u001b[0m\u001b[0;36m0\u001b[0m\u001b[0;34m)\u001b[0m\u001b[0;34m\u001b[0m\u001b[0;34m\u001b[0m\u001b[0m\n\u001b[0m",
      "\u001b[0;31mZeroDivisionError\u001b[0m: division by zero"
     ]
    }
   ],
   "source": [
    "#exception\n",
    "print(1/0)"
   ]
  },
  {
   "cell_type": "code",
   "execution_count": 8,
   "metadata": {},
   "outputs": [
    {
     "ename": "Exception",
     "evalue": "x can't be greater than or equal to 10",
     "output_type": "error",
     "traceback": [
      "\u001b[0;31m---------------------------------------------------------------------------\u001b[0m",
      "\u001b[0;31mException\u001b[0m                                 Traceback (most recent call last)",
      "\u001b[0;32m<ipython-input-8-b54ff934fed1>\u001b[0m in \u001b[0;36m<module>\u001b[0;34m\u001b[0m\n\u001b[1;32m      2\u001b[0m \u001b[0mx\u001b[0m \u001b[0;34m=\u001b[0m \u001b[0;36m12\u001b[0m\u001b[0;34m\u001b[0m\u001b[0;34m\u001b[0m\u001b[0m\n\u001b[1;32m      3\u001b[0m \u001b[0;32mif\u001b[0m \u001b[0mx\u001b[0m \u001b[0;34m>\u001b[0m \u001b[0;36m10\u001b[0m\u001b[0;34m:\u001b[0m\u001b[0;34m\u001b[0m\u001b[0;34m\u001b[0m\u001b[0m\n\u001b[0;32m----> 4\u001b[0;31m     \u001b[0;32mraise\u001b[0m \u001b[0mException\u001b[0m\u001b[0;34m(\u001b[0m\u001b[0;34m\"x can't be greater than or equal to 10\"\u001b[0m\u001b[0;34m)\u001b[0m\u001b[0;34m\u001b[0m\u001b[0;34m\u001b[0m\u001b[0m\n\u001b[0m\u001b[1;32m      5\u001b[0m \u001b[0mprint\u001b[0m\u001b[0;34m(\u001b[0m\u001b[0mx\u001b[0m\u001b[0;34m)\u001b[0m\u001b[0;34m\u001b[0m\u001b[0;34m\u001b[0m\u001b[0m\n",
      "\u001b[0;31mException\u001b[0m: x can't be greater than or equal to 10"
     ]
    }
   ],
   "source": [
    "#using raise, throwing custom exception\n",
    "x = 12\n",
    "if x > 10:\n",
    "    raise Exception(\"x can't be greater than or equal to 10\")\n",
    "print(x)"
   ]
  },
  {
   "cell_type": "code",
   "execution_count": 11,
   "metadata": {},
   "outputs": [
    {
     "ename": "AssertionError",
     "evalue": "Whoops, Not linux",
     "output_type": "error",
     "traceback": [
      "\u001b[0;31m---------------------------------------------------------------------------\u001b[0m",
      "\u001b[0;31mAssertionError\u001b[0m                            Traceback (most recent call last)",
      "\u001b[0;32m<ipython-input-11-2e9d3073a02d>\u001b[0m in \u001b[0;36m<module>\u001b[0;34m\u001b[0m\n\u001b[1;32m      1\u001b[0m \u001b[0;31m## using assertion\u001b[0m\u001b[0;34m\u001b[0m\u001b[0;34m\u001b[0m\u001b[0;34m\u001b[0m\u001b[0m\n\u001b[1;32m      2\u001b[0m \u001b[0;32mimport\u001b[0m \u001b[0msys\u001b[0m\u001b[0;34m\u001b[0m\u001b[0;34m\u001b[0m\u001b[0m\n\u001b[0;32m----> 3\u001b[0;31m \u001b[0;32massert\u001b[0m \u001b[0;34m(\u001b[0m\u001b[0;34m'Win'\u001b[0m \u001b[0;32min\u001b[0m \u001b[0msys\u001b[0m\u001b[0;34m.\u001b[0m\u001b[0mplatform\u001b[0m\u001b[0;34m)\u001b[0m\u001b[0;34m,\u001b[0m \u001b[0;34m\"Whoops, Not linux\"\u001b[0m \u001b[0;31m#if windows assert allows\u001b[0m\u001b[0;34m\u001b[0m\u001b[0;34m\u001b[0m\u001b[0m\n\u001b[0m",
      "\u001b[0;31mAssertionError\u001b[0m: Whoops, Not linux"
     ]
    }
   ],
   "source": [
    "## using assertion\n",
    "import sys\n",
    "assert ('Win' in sys.platform), \"Whoops, Not linux\" #if windows assert allows"
   ]
  },
  {
   "cell_type": "code",
   "execution_count": 28,
   "metadata": {},
   "outputs": [
    {
     "name": "stdout",
     "output_type": "stream",
     "text": [
      "Opps not Windows\n",
      "\n",
      "Only for Windows\n",
      "Opps not Windows\n"
     ]
    }
   ],
   "source": [
    "## using try and catch with assertion\n",
    "import sys\n",
    "\n",
    "def windows_interaction():\n",
    "    assert('windows' in sys.platform), 'Only for Windows'\n",
    "    print('Working on code')    \n",
    "    \n",
    "# bare except\n",
    "try:\n",
    "    windows_interaction()\n",
    "except:\n",
    "    print('Opps not Windows')\n",
    "print()\n",
    "\n",
    "# catching Assertion \n",
    "try:\n",
    "    windows_interaction()\n",
    "except AssertionError as AE:\n",
    "    print(AE)\n",
    "    print('Opps not Windows')"
   ]
  },
  {
   "cell_type": "code",
   "execution_count": 30,
   "metadata": {},
   "outputs": [
    {
     "name": "stdout",
     "output_type": "stream",
     "text": [
      "[Errno 2] No such file or directory: 'file.log'\n",
      "create it first\n"
     ]
    }
   ],
   "source": [
    "# Handling FileNotFile error in files\n",
    "\n",
    "try:\n",
    "    with open('file.log') as file:\n",
    "        for line in file.readlines():\n",
    "            print(line)\n",
    "except FileNotFoundError as fnf:\n",
    "    print(fnf)\n",
    "    print('create it first')\n"
   ]
  },
  {
   "cell_type": "markdown",
   "metadata": {},
   "source": [
    "Here are the key takeaways:\n",
    "\n",
    "* A try clause is executed up until the point where the first exception is encountered.\n",
    "* Inside the except clause, or the exception handler, you determine how the program responds to the exception.\n",
    "* You can anticipate multiple exceptions and differentiate how the program should respond to them.\n",
    "* Avoid using bare except clauses."
   ]
  },
  {
   "cell_type": "code",
   "execution_count": 35,
   "metadata": {},
   "outputs": [
    {
     "name": "stdout",
     "output_type": "stream",
     "text": [
      "lets do some suff\n",
      "clearing all the resources\n"
     ]
    }
   ],
   "source": [
    "#else can be used to run code if try is executed without any error\n",
    "#finally can be used to clean up so resources, as it is executed regaradless what except status is\n",
    "import sys\n",
    "\n",
    "def windows_interaction():\n",
    "    assert('linux' in sys.platform), 'Only for linux'\n",
    "    \n",
    "try:\n",
    "    windows_interaction()\n",
    "except AssertionError as AE:\n",
    "    print(AE)\n",
    "    print('Opps not This Os')\n",
    "else : \n",
    "    print('lets do some suff')#iff no exception\n",
    "finally :\n",
    "    print('clearing all the resources')"
   ]
  },
  {
   "cell_type": "code",
   "execution_count": null,
   "metadata": {},
   "outputs": [],
   "source": []
  }
 ],
 "metadata": {
  "kernelspec": {
   "display_name": "Python 3",
   "language": "python",
   "name": "python3"
  },
  "language_info": {
   "codemirror_mode": {
    "name": "ipython",
    "version": 3
   },
   "file_extension": ".py",
   "mimetype": "text/x-python",
   "name": "python",
   "nbconvert_exporter": "python",
   "pygments_lexer": "ipython3",
   "version": "3.8.5"
  }
 },
 "nbformat": 4,
 "nbformat_minor": 4
}
